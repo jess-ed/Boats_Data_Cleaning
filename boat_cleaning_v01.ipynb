{
 "cells": [
  {
   "cell_type": "code",
   "execution_count": 283,
   "id": "dfeee2d9",
   "metadata": {},
   "outputs": [],
   "source": [
    "#Dataset retrieved from: \n",
    "#https://www.kaggle.com/karthikbhandary2/boat-sales"
   ]
  },
  {
   "cell_type": "code",
   "execution_count": 1,
   "id": "883e3c64",
   "metadata": {},
   "outputs": [],
   "source": [
    "import pandas as pd\n",
    "import numpy as np\n",
    "import matplotlib.pyplot as plt\n",
    "import seaborn as sns\n",
    "%matplotlib inline"
   ]
  },
  {
   "cell_type": "code",
   "execution_count": 3,
   "id": "038b49c8",
   "metadata": {},
   "outputs": [],
   "source": [
    "df = pd.read_csv(\"boat_data.csv\") #we don't need to use df...we can name the data however \n",
    "#we want"
   ]
  },
  {
   "cell_type": "code",
   "execution_count": 12,
   "id": "9cdb40ab",
   "metadata": {},
   "outputs": [
    {
     "data": {
      "text/plain": [
       "(9888, 10)"
      ]
     },
     "execution_count": 12,
     "metadata": {},
     "output_type": "execute_result"
    }
   ],
   "source": [
    "#how to look at number of rows/cols\n",
    "df.shape"
   ]
  },
  {
   "cell_type": "code",
   "execution_count": 14,
   "id": "918f8204",
   "metadata": {},
   "outputs": [
    {
     "name": "stdout",
     "output_type": "stream",
     "text": [
      "<class 'pandas.core.frame.DataFrame'>\n",
      "RangeIndex: 9888 entries, 0 to 9887\n",
      "Data columns (total 10 columns):\n",
      " #   Column                       Non-Null Count  Dtype  \n",
      "---  ------                       --------------  -----  \n",
      " 0   Price                        9888 non-null   object \n",
      " 1   Boat Type                    9888 non-null   object \n",
      " 2   Manufacturer                 8550 non-null   object \n",
      " 3   Type                         9882 non-null   object \n",
      " 4   Year Built                   9888 non-null   int64  \n",
      " 5   Length                       9879 non-null   float64\n",
      " 6   Width                        9832 non-null   float64\n",
      " 7   Material                     8139 non-null   object \n",
      " 8   Location                     9852 non-null   object \n",
      " 9   Number of views last 7 days  9888 non-null   int64  \n",
      "dtypes: float64(2), int64(2), object(6)\n",
      "memory usage: 772.6+ KB\n"
     ]
    }
   ],
   "source": [
    "#how to get basic info \n",
    "df.info() #center gives you number of non null objects"
   ]
  },
  {
   "cell_type": "code",
   "execution_count": 4,
   "id": "46ee7023",
   "metadata": {},
   "outputs": [
    {
     "name": "stdout",
     "output_type": "stream",
     "text": [
      "       Price            Boat Type          Manufacturer                 Type  \\\n",
      "0   CHF 3337          Motor Yacht  Rigiflex power boats  new boat from stock   \n",
      "1   EUR 3490  Center console boat     Terhi power boats  new boat from stock   \n",
      "2   CHF 3770           Sport Boat    Marine power boats  new boat from stock   \n",
      "3  DKK 25900           Sport Boat    Pioner power boats  new boat from stock   \n",
      "4   EUR 3399         Fishing Boat    Linder power boats  new boat from stock   \n",
      "\n",
      "   Year Built  Length  Width       Material  \\\n",
      "0        2017    4.00   1.90            NaN   \n",
      "1        2020    4.00   1.50  Thermoplastic   \n",
      "2           0    3.69   1.42      Aluminium   \n",
      "3        2020    3.00   1.00            NaN   \n",
      "4        2019    3.55   1.46      Aluminium   \n",
      "\n",
      "                                     Location  Number of views last 7 days  \n",
      "0      Switzerland Â» Lake Geneva Â» VÃ©senaz                          226  \n",
      "1                    Germany Â» BÃ¶nningstedt                           75  \n",
      "2  Switzerland Â» Lake of Zurich Â» StÃ¤fa ZH                          124  \n",
      "3                        Denmark Â» Svendborg                           64  \n",
      "4               Germany Â» Bayern Â» MÃ¼nchen                           58  \n"
     ]
    }
   ],
   "source": [
    "#how to look at the headers + first five rows\n",
    "print(df.head()) #using this code gives you headers but also a couple of rows of the table;\n",
    "#head gives you first five rows and tail gives you last five rows "
   ]
  },
  {
   "cell_type": "code",
   "execution_count": 5,
   "id": "4501b6bd",
   "metadata": {},
   "outputs": [
    {
     "name": "stdout",
     "output_type": "stream",
     "text": [
      "         Price     Boat Type           Manufacturer  \\\n",
      "9883  CHF 4900    Sport Boat    Sea Ray power boats   \n",
      "9884  EUR 4516    Sport Boat                    NaN   \n",
      "9885  EUR 4499    Sport Boat  BlueCraft power boats   \n",
      "9886  EUR 4300  Pontoon Boat      Whaly power boats   \n",
      "9887  CHF 3780  Fishing Boat    DarekCo power boats   \n",
      "\n",
      "                              Type  Year Built  Length  Width Material  \\\n",
      "9883            Used boat,Unleaded        1987    6.30   2.44      NaN   \n",
      "9884           new boat from stock           0    4.17   1.68      GRP   \n",
      "9885  new boat from stock,Unleaded        2020    4.40   1.80      GRP   \n",
      "9886           new boat from stock        2018    4.37   1.89      NaN   \n",
      "9887           new boat from stock        2019    3.60   1.60      GRP   \n",
      "\n",
      "                                      Location  Number of views last 7 days  \n",
      "9883  Switzerland Â» Lago Maggiore Â» Riazzino                         1116  \n",
      "9884             Germany Â» Hamburg Â» HAMBURG                           94  \n",
      "9885   Germany Â» Nordrhein-Westfalen Â» Wesel                          354  \n",
      "9886                     Italy Â» Dormelletto                           266  \n",
      "9887      Switzerland Â» Brienzersee Â» Brienz                          194  \n"
     ]
    }
   ],
   "source": [
    "#how to look at headers + last five rows\n",
    "print(df.tail())"
   ]
  },
  {
   "cell_type": "code",
   "execution_count": 6,
   "id": "3d9fd595",
   "metadata": {},
   "outputs": [
    {
     "name": "stdout",
     "output_type": "stream",
     "text": [
      "0        CHF 3337\n",
      "1        EUR 3490\n",
      "2        CHF 3770\n",
      "3       DKK 25900\n",
      "4        EUR 3399\n",
      "          ...    \n",
      "9883     CHF 4900\n",
      "9884     EUR 4516\n",
      "9885     EUR 4499\n",
      "9886     EUR 4300\n",
      "9887     CHF 3780\n",
      "Name: Price, Length: 9888, dtype: object\n"
     ]
    }
   ],
   "source": [
    "#if you want to look at a specific column, \n",
    "#type print(df[type column name in here in single quotes])\n",
    "print(df['Price'])"
   ]
  },
  {
   "cell_type": "code",
   "execution_count": 16,
   "id": "49fb07a2",
   "metadata": {},
   "outputs": [],
   "source": [
    "#if you want to look at multiple columns\n",
    "subset = df[['Price', 'Manufacturer', 'Boat Type']]"
   ]
  },
  {
   "cell_type": "code",
   "execution_count": 17,
   "id": "bbc1cabd",
   "metadata": {},
   "outputs": [
    {
     "data": {
      "text/html": [
       "<div>\n",
       "<style scoped>\n",
       "    .dataframe tbody tr th:only-of-type {\n",
       "        vertical-align: middle;\n",
       "    }\n",
       "\n",
       "    .dataframe tbody tr th {\n",
       "        vertical-align: top;\n",
       "    }\n",
       "\n",
       "    .dataframe thead th {\n",
       "        text-align: right;\n",
       "    }\n",
       "</style>\n",
       "<table border=\"1\" class=\"dataframe\">\n",
       "  <thead>\n",
       "    <tr style=\"text-align: right;\">\n",
       "      <th></th>\n",
       "      <th>Price</th>\n",
       "      <th>Manufacturer</th>\n",
       "      <th>Boat Type</th>\n",
       "    </tr>\n",
       "  </thead>\n",
       "  <tbody>\n",
       "    <tr>\n",
       "      <th>0</th>\n",
       "      <td>CHF 3337</td>\n",
       "      <td>Rigiflex power boats</td>\n",
       "      <td>Motor Yacht</td>\n",
       "    </tr>\n",
       "    <tr>\n",
       "      <th>1</th>\n",
       "      <td>EUR 3490</td>\n",
       "      <td>Terhi power boats</td>\n",
       "      <td>Center console boat</td>\n",
       "    </tr>\n",
       "    <tr>\n",
       "      <th>2</th>\n",
       "      <td>CHF 3770</td>\n",
       "      <td>Marine power boats</td>\n",
       "      <td>Sport Boat</td>\n",
       "    </tr>\n",
       "    <tr>\n",
       "      <th>3</th>\n",
       "      <td>DKK 25900</td>\n",
       "      <td>Pioner power boats</td>\n",
       "      <td>Sport Boat</td>\n",
       "    </tr>\n",
       "    <tr>\n",
       "      <th>4</th>\n",
       "      <td>EUR 3399</td>\n",
       "      <td>Linder power boats</td>\n",
       "      <td>Fishing Boat</td>\n",
       "    </tr>\n",
       "  </tbody>\n",
       "</table>\n",
       "</div>"
      ],
      "text/plain": [
       "       Price          Manufacturer            Boat Type\n",
       "0   CHF 3337  Rigiflex power boats          Motor Yacht\n",
       "1   EUR 3490     Terhi power boats  Center console boat\n",
       "2   CHF 3770    Marine power boats           Sport Boat\n",
       "3  DKK 25900    Pioner power boats           Sport Boat\n",
       "4   EUR 3399    Linder power boats         Fishing Boat"
      ]
     },
     "execution_count": 17,
     "metadata": {},
     "output_type": "execute_result"
    }
   ],
   "source": [
    "subset.head()"
   ]
  },
  {
   "cell_type": "code",
   "execution_count": 7,
   "id": "bd0801fa",
   "metadata": {},
   "outputs": [
    {
     "name": "stdout",
     "output_type": "stream",
     "text": [
      "       Price            Boat Type          Manufacturer                 Type  \\\n",
      "0   CHF 3337          Motor Yacht  Rigiflex power boats  new boat from stock   \n",
      "1   EUR 3490  Center console boat     Terhi power boats  new boat from stock   \n",
      "2   CHF 3770           Sport Boat    Marine power boats  new boat from stock   \n",
      "3  DKK 25900           Sport Boat    Pioner power boats  new boat from stock   \n",
      "\n",
      "   Year Built  Length  Width       Material  \\\n",
      "0        2017    4.00   1.90            NaN   \n",
      "1        2020    4.00   1.50  Thermoplastic   \n",
      "2           0    3.69   1.42      Aluminium   \n",
      "3        2020    3.00   1.00            NaN   \n",
      "\n",
      "                                     Location  Number of views last 7 days  \n",
      "0      Switzerland Â» Lake Geneva Â» VÃ©senaz                          226  \n",
      "1                    Germany Â» BÃ¶nningstedt                           75  \n",
      "2  Switzerland Â» Lake of Zurich Â» StÃ¤fa ZH                          124  \n",
      "3                        Denmark Â» Svendborg                           64  \n"
     ]
    }
   ],
   "source": [
    "#iloc allows you to select specific rows (ex. doing [0:4] this means we are picking rows 1-4;\n",
    "#note that in python everything gets indexed with 0 first instead of 1)\n",
    "print(df.iloc[0:4])"
   ]
  },
  {
   "cell_type": "code",
   "execution_count": 19,
   "id": "df446f94",
   "metadata": {},
   "outputs": [],
   "source": [
    "#if we want to subset both rows and cols at same time rows go on left of comma and then cols on right\n",
    "subset = df.loc[:, ['Manufacturer', 'Price']] #when you put : it gives you all the rows"
   ]
  },
  {
   "cell_type": "code",
   "execution_count": 20,
   "id": "064ac3db",
   "metadata": {},
   "outputs": [
    {
     "data": {
      "text/html": [
       "<div>\n",
       "<style scoped>\n",
       "    .dataframe tbody tr th:only-of-type {\n",
       "        vertical-align: middle;\n",
       "    }\n",
       "\n",
       "    .dataframe tbody tr th {\n",
       "        vertical-align: top;\n",
       "    }\n",
       "\n",
       "    .dataframe thead th {\n",
       "        text-align: right;\n",
       "    }\n",
       "</style>\n",
       "<table border=\"1\" class=\"dataframe\">\n",
       "  <thead>\n",
       "    <tr style=\"text-align: right;\">\n",
       "      <th></th>\n",
       "      <th>Manufacturer</th>\n",
       "      <th>Price</th>\n",
       "    </tr>\n",
       "  </thead>\n",
       "  <tbody>\n",
       "    <tr>\n",
       "      <th>0</th>\n",
       "      <td>Rigiflex power boats</td>\n",
       "      <td>CHF 3337</td>\n",
       "    </tr>\n",
       "    <tr>\n",
       "      <th>1</th>\n",
       "      <td>Terhi power boats</td>\n",
       "      <td>EUR 3490</td>\n",
       "    </tr>\n",
       "    <tr>\n",
       "      <th>2</th>\n",
       "      <td>Marine power boats</td>\n",
       "      <td>CHF 3770</td>\n",
       "    </tr>\n",
       "    <tr>\n",
       "      <th>3</th>\n",
       "      <td>Pioner power boats</td>\n",
       "      <td>DKK 25900</td>\n",
       "    </tr>\n",
       "    <tr>\n",
       "      <th>4</th>\n",
       "      <td>Linder power boats</td>\n",
       "      <td>EUR 3399</td>\n",
       "    </tr>\n",
       "  </tbody>\n",
       "</table>\n",
       "</div>"
      ],
      "text/plain": [
       "           Manufacturer      Price\n",
       "0  Rigiflex power boats   CHF 3337\n",
       "1     Terhi power boats   EUR 3490\n",
       "2    Marine power boats   CHF 3770\n",
       "3    Pioner power boats  DKK 25900\n",
       "4    Linder power boats   EUR 3399"
      ]
     },
     "execution_count": 20,
     "metadata": {},
     "output_type": "execute_result"
    }
   ],
   "source": [
    "subset.head()"
   ]
  },
  {
   "cell_type": "code",
   "execution_count": 22,
   "id": "1ab02b04",
   "metadata": {},
   "outputs": [
    {
     "data": {
      "text/html": [
       "<div>\n",
       "<style scoped>\n",
       "    .dataframe tbody tr th:only-of-type {\n",
       "        vertical-align: middle;\n",
       "    }\n",
       "\n",
       "    .dataframe tbody tr th {\n",
       "        vertical-align: top;\n",
       "    }\n",
       "\n",
       "    .dataframe thead th {\n",
       "        text-align: right;\n",
       "    }\n",
       "</style>\n",
       "<table border=\"1\" class=\"dataframe\">\n",
       "  <thead>\n",
       "    <tr style=\"text-align: right;\">\n",
       "      <th></th>\n",
       "      <th>Boat Type</th>\n",
       "      <th>Price</th>\n",
       "    </tr>\n",
       "  </thead>\n",
       "  <tbody>\n",
       "    <tr>\n",
       "      <th>2</th>\n",
       "      <td>Sport Boat</td>\n",
       "      <td>CHF 3770</td>\n",
       "    </tr>\n",
       "    <tr>\n",
       "      <th>3</th>\n",
       "      <td>Sport Boat</td>\n",
       "      <td>DKK 25900</td>\n",
       "    </tr>\n",
       "    <tr>\n",
       "      <th>5</th>\n",
       "      <td>Sport Boat</td>\n",
       "      <td>CHF 3650</td>\n",
       "    </tr>\n",
       "    <tr>\n",
       "      <th>7</th>\n",
       "      <td>Sport Boat</td>\n",
       "      <td>DKK 24800</td>\n",
       "    </tr>\n",
       "    <tr>\n",
       "      <th>12</th>\n",
       "      <td>Sport Boat</td>\n",
       "      <td>EUR 3500</td>\n",
       "    </tr>\n",
       "    <tr>\n",
       "      <th>...</th>\n",
       "      <td>...</td>\n",
       "      <td>...</td>\n",
       "    </tr>\n",
       "    <tr>\n",
       "      <th>9880</th>\n",
       "      <td>Sport Boat</td>\n",
       "      <td>CHF 4980</td>\n",
       "    </tr>\n",
       "    <tr>\n",
       "      <th>9881</th>\n",
       "      <td>Sport Boat</td>\n",
       "      <td>CHF 4950</td>\n",
       "    </tr>\n",
       "    <tr>\n",
       "      <th>9883</th>\n",
       "      <td>Sport Boat</td>\n",
       "      <td>CHF 4900</td>\n",
       "    </tr>\n",
       "    <tr>\n",
       "      <th>9884</th>\n",
       "      <td>Sport Boat</td>\n",
       "      <td>EUR 4516</td>\n",
       "    </tr>\n",
       "    <tr>\n",
       "      <th>9885</th>\n",
       "      <td>Sport Boat</td>\n",
       "      <td>EUR 4499</td>\n",
       "    </tr>\n",
       "  </tbody>\n",
       "</table>\n",
       "<p>1407 rows × 2 columns</p>\n",
       "</div>"
      ],
      "text/plain": [
       "       Boat Type      Price\n",
       "2     Sport Boat   CHF 3770\n",
       "3     Sport Boat  DKK 25900\n",
       "5     Sport Boat   CHF 3650\n",
       "7     Sport Boat  DKK 24800\n",
       "12    Sport Boat   EUR 3500\n",
       "...          ...        ...\n",
       "9880  Sport Boat   CHF 4980\n",
       "9881  Sport Boat   CHF 4950\n",
       "9883  Sport Boat   CHF 4900\n",
       "9884  Sport Boat   EUR 4516\n",
       "9885  Sport Boat   EUR 4499\n",
       "\n",
       "[1407 rows x 2 columns]"
      ]
     },
     "execution_count": 22,
     "metadata": {},
     "output_type": "execute_result"
    }
   ],
   "source": [
    "#how to specify rows with a certain characteristic ie Sport Boat w specific columns like Boat Type and Price\n",
    "df.loc[df['Boat Type'] == 'Sport Boat', ['Boat Type','Price']]"
   ]
  },
  {
   "cell_type": "code",
   "execution_count": 33,
   "id": "d3ab4d1f",
   "metadata": {},
   "outputs": [
    {
     "data": {
      "text/html": [
       "<div>\n",
       "<style scoped>\n",
       "    .dataframe tbody tr th:only-of-type {\n",
       "        vertical-align: middle;\n",
       "    }\n",
       "\n",
       "    .dataframe tbody tr th {\n",
       "        vertical-align: top;\n",
       "    }\n",
       "\n",
       "    .dataframe thead th {\n",
       "        text-align: right;\n",
       "    }\n",
       "</style>\n",
       "<table border=\"1\" class=\"dataframe\">\n",
       "  <thead>\n",
       "    <tr style=\"text-align: right;\">\n",
       "      <th></th>\n",
       "      <th>Boat Type</th>\n",
       "      <th>Price</th>\n",
       "      <th>Year Built</th>\n",
       "    </tr>\n",
       "  </thead>\n",
       "  <tbody>\n",
       "    <tr>\n",
       "      <th>3</th>\n",
       "      <td>Sport Boat</td>\n",
       "      <td>DKK 25900</td>\n",
       "      <td>2020</td>\n",
       "    </tr>\n",
       "    <tr>\n",
       "      <th>12</th>\n",
       "      <td>Sport Boat</td>\n",
       "      <td>EUR 3500</td>\n",
       "      <td>2004</td>\n",
       "    </tr>\n",
       "    <tr>\n",
       "      <th>22</th>\n",
       "      <td>Sport Boat</td>\n",
       "      <td>EUR 3930</td>\n",
       "      <td>2020</td>\n",
       "    </tr>\n",
       "    <tr>\n",
       "      <th>30</th>\n",
       "      <td>Sport Boat</td>\n",
       "      <td>CHF 3950</td>\n",
       "      <td>1996</td>\n",
       "    </tr>\n",
       "    <tr>\n",
       "      <th>43</th>\n",
       "      <td>Sport Boat</td>\n",
       "      <td>EUR 5500</td>\n",
       "      <td>2018</td>\n",
       "    </tr>\n",
       "    <tr>\n",
       "      <th>...</th>\n",
       "      <td>...</td>\n",
       "      <td>...</td>\n",
       "      <td>...</td>\n",
       "    </tr>\n",
       "    <tr>\n",
       "      <th>9856</th>\n",
       "      <td>Sport Boat</td>\n",
       "      <td>EUR 5900</td>\n",
       "      <td>1997</td>\n",
       "    </tr>\n",
       "    <tr>\n",
       "      <th>9858</th>\n",
       "      <td>Sport Boat</td>\n",
       "      <td>EUR 5900</td>\n",
       "      <td>1996</td>\n",
       "    </tr>\n",
       "    <tr>\n",
       "      <th>9868</th>\n",
       "      <td>Sport Boat</td>\n",
       "      <td>EUR 4900</td>\n",
       "      <td>1995</td>\n",
       "    </tr>\n",
       "    <tr>\n",
       "      <th>9872</th>\n",
       "      <td>Sport Boat</td>\n",
       "      <td>EUR 4799</td>\n",
       "      <td>2020</td>\n",
       "    </tr>\n",
       "    <tr>\n",
       "      <th>9885</th>\n",
       "      <td>Sport Boat</td>\n",
       "      <td>EUR 4499</td>\n",
       "      <td>2020</td>\n",
       "    </tr>\n",
       "  </tbody>\n",
       "</table>\n",
       "<p>1142 rows × 3 columns</p>\n",
       "</div>"
      ],
      "text/plain": [
       "       Boat Type      Price  Year Built\n",
       "3     Sport Boat  DKK 25900        2020\n",
       "12    Sport Boat   EUR 3500        2004\n",
       "22    Sport Boat   EUR 3930        2020\n",
       "30    Sport Boat   CHF 3950        1996\n",
       "43    Sport Boat   EUR 5500        2018\n",
       "...          ...        ...         ...\n",
       "9856  Sport Boat   EUR 5900        1997\n",
       "9858  Sport Boat   EUR 5900        1996\n",
       "9868  Sport Boat   EUR 4900        1995\n",
       "9872  Sport Boat   EUR 4799        2020\n",
       "9885  Sport Boat   EUR 4499        2020\n",
       "\n",
       "[1142 rows x 3 columns]"
      ]
     },
     "execution_count": 33,
     "metadata": {},
     "output_type": "execute_result"
    }
   ],
   "source": [
    "#how to specify multiple characteristics for rows use parenthesis\n",
    "df.loc[(df['Boat Type'] == 'Sport Boat')&(df['Year Built'] >= 1992), ['Boat Type','Price', 'Year Built']]"
   ]
  },
  {
   "cell_type": "code",
   "execution_count": 8,
   "id": "23d9020e",
   "metadata": {},
   "outputs": [
    {
     "data": {
      "text/html": [
       "<div>\n",
       "<style scoped>\n",
       "    .dataframe tbody tr th:only-of-type {\n",
       "        vertical-align: middle;\n",
       "    }\n",
       "\n",
       "    .dataframe tbody tr th {\n",
       "        vertical-align: top;\n",
       "    }\n",
       "\n",
       "    .dataframe thead th {\n",
       "        text-align: right;\n",
       "    }\n",
       "</style>\n",
       "<table border=\"1\" class=\"dataframe\">\n",
       "  <thead>\n",
       "    <tr style=\"text-align: right;\">\n",
       "      <th></th>\n",
       "      <th>Price</th>\n",
       "      <th>Boat Type</th>\n",
       "      <th>Manufacturer</th>\n",
       "      <th>Type</th>\n",
       "      <th>Year Built</th>\n",
       "      <th>Length</th>\n",
       "      <th>Width</th>\n",
       "      <th>Material</th>\n",
       "      <th>Location</th>\n",
       "      <th>Number of views last 7 days</th>\n",
       "    </tr>\n",
       "  </thead>\n",
       "  <tbody>\n",
       "    <tr>\n",
       "      <th>0</th>\n",
       "      <td>False</td>\n",
       "      <td>False</td>\n",
       "      <td>False</td>\n",
       "      <td>False</td>\n",
       "      <td>False</td>\n",
       "      <td>False</td>\n",
       "      <td>False</td>\n",
       "      <td>True</td>\n",
       "      <td>False</td>\n",
       "      <td>False</td>\n",
       "    </tr>\n",
       "    <tr>\n",
       "      <th>1</th>\n",
       "      <td>False</td>\n",
       "      <td>False</td>\n",
       "      <td>False</td>\n",
       "      <td>False</td>\n",
       "      <td>False</td>\n",
       "      <td>False</td>\n",
       "      <td>False</td>\n",
       "      <td>False</td>\n",
       "      <td>False</td>\n",
       "      <td>False</td>\n",
       "    </tr>\n",
       "    <tr>\n",
       "      <th>2</th>\n",
       "      <td>False</td>\n",
       "      <td>False</td>\n",
       "      <td>False</td>\n",
       "      <td>False</td>\n",
       "      <td>False</td>\n",
       "      <td>False</td>\n",
       "      <td>False</td>\n",
       "      <td>False</td>\n",
       "      <td>False</td>\n",
       "      <td>False</td>\n",
       "    </tr>\n",
       "    <tr>\n",
       "      <th>3</th>\n",
       "      <td>False</td>\n",
       "      <td>False</td>\n",
       "      <td>False</td>\n",
       "      <td>False</td>\n",
       "      <td>False</td>\n",
       "      <td>False</td>\n",
       "      <td>False</td>\n",
       "      <td>True</td>\n",
       "      <td>False</td>\n",
       "      <td>False</td>\n",
       "    </tr>\n",
       "    <tr>\n",
       "      <th>4</th>\n",
       "      <td>False</td>\n",
       "      <td>False</td>\n",
       "      <td>False</td>\n",
       "      <td>False</td>\n",
       "      <td>False</td>\n",
       "      <td>False</td>\n",
       "      <td>False</td>\n",
       "      <td>False</td>\n",
       "      <td>False</td>\n",
       "      <td>False</td>\n",
       "    </tr>\n",
       "    <tr>\n",
       "      <th>...</th>\n",
       "      <td>...</td>\n",
       "      <td>...</td>\n",
       "      <td>...</td>\n",
       "      <td>...</td>\n",
       "      <td>...</td>\n",
       "      <td>...</td>\n",
       "      <td>...</td>\n",
       "      <td>...</td>\n",
       "      <td>...</td>\n",
       "      <td>...</td>\n",
       "    </tr>\n",
       "    <tr>\n",
       "      <th>9883</th>\n",
       "      <td>False</td>\n",
       "      <td>False</td>\n",
       "      <td>False</td>\n",
       "      <td>False</td>\n",
       "      <td>False</td>\n",
       "      <td>False</td>\n",
       "      <td>False</td>\n",
       "      <td>True</td>\n",
       "      <td>False</td>\n",
       "      <td>False</td>\n",
       "    </tr>\n",
       "    <tr>\n",
       "      <th>9884</th>\n",
       "      <td>False</td>\n",
       "      <td>False</td>\n",
       "      <td>True</td>\n",
       "      <td>False</td>\n",
       "      <td>False</td>\n",
       "      <td>False</td>\n",
       "      <td>False</td>\n",
       "      <td>False</td>\n",
       "      <td>False</td>\n",
       "      <td>False</td>\n",
       "    </tr>\n",
       "    <tr>\n",
       "      <th>9885</th>\n",
       "      <td>False</td>\n",
       "      <td>False</td>\n",
       "      <td>False</td>\n",
       "      <td>False</td>\n",
       "      <td>False</td>\n",
       "      <td>False</td>\n",
       "      <td>False</td>\n",
       "      <td>False</td>\n",
       "      <td>False</td>\n",
       "      <td>False</td>\n",
       "    </tr>\n",
       "    <tr>\n",
       "      <th>9886</th>\n",
       "      <td>False</td>\n",
       "      <td>False</td>\n",
       "      <td>False</td>\n",
       "      <td>False</td>\n",
       "      <td>False</td>\n",
       "      <td>False</td>\n",
       "      <td>False</td>\n",
       "      <td>True</td>\n",
       "      <td>False</td>\n",
       "      <td>False</td>\n",
       "    </tr>\n",
       "    <tr>\n",
       "      <th>9887</th>\n",
       "      <td>False</td>\n",
       "      <td>False</td>\n",
       "      <td>False</td>\n",
       "      <td>False</td>\n",
       "      <td>False</td>\n",
       "      <td>False</td>\n",
       "      <td>False</td>\n",
       "      <td>False</td>\n",
       "      <td>False</td>\n",
       "      <td>False</td>\n",
       "    </tr>\n",
       "  </tbody>\n",
       "</table>\n",
       "<p>9888 rows × 10 columns</p>\n",
       "</div>"
      ],
      "text/plain": [
       "      Price  Boat Type  Manufacturer   Type  Year Built  Length  Width  \\\n",
       "0     False      False         False  False       False   False  False   \n",
       "1     False      False         False  False       False   False  False   \n",
       "2     False      False         False  False       False   False  False   \n",
       "3     False      False         False  False       False   False  False   \n",
       "4     False      False         False  False       False   False  False   \n",
       "...     ...        ...           ...    ...         ...     ...    ...   \n",
       "9883  False      False         False  False       False   False  False   \n",
       "9884  False      False          True  False       False   False  False   \n",
       "9885  False      False         False  False       False   False  False   \n",
       "9886  False      False         False  False       False   False  False   \n",
       "9887  False      False         False  False       False   False  False   \n",
       "\n",
       "      Material  Location  Number of views last 7 days  \n",
       "0         True     False                        False  \n",
       "1        False     False                        False  \n",
       "2        False     False                        False  \n",
       "3         True     False                        False  \n",
       "4        False     False                        False  \n",
       "...        ...       ...                          ...  \n",
       "9883      True     False                        False  \n",
       "9884     False     False                        False  \n",
       "9885     False     False                        False  \n",
       "9886      True     False                        False  \n",
       "9887     False     False                        False  \n",
       "\n",
       "[9888 rows x 10 columns]"
      ]
     },
     "execution_count": 8,
     "metadata": {},
     "output_type": "execute_result"
    }
   ],
   "source": [
    "#how to check for null values, False = not null, True = null; we can use isnull() or is.na()\n",
    "df.isnull()"
   ]
  },
  {
   "cell_type": "code",
   "execution_count": 9,
   "id": "c6864f16",
   "metadata": {},
   "outputs": [
    {
     "data": {
      "text/html": [
       "<div>\n",
       "<style scoped>\n",
       "    .dataframe tbody tr th:only-of-type {\n",
       "        vertical-align: middle;\n",
       "    }\n",
       "\n",
       "    .dataframe tbody tr th {\n",
       "        vertical-align: top;\n",
       "    }\n",
       "\n",
       "    .dataframe thead th {\n",
       "        text-align: right;\n",
       "    }\n",
       "</style>\n",
       "<table border=\"1\" class=\"dataframe\">\n",
       "  <thead>\n",
       "    <tr style=\"text-align: right;\">\n",
       "      <th></th>\n",
       "      <th>Price</th>\n",
       "      <th>Boat Type</th>\n",
       "      <th>Manufacturer</th>\n",
       "      <th>Type</th>\n",
       "      <th>Year Built</th>\n",
       "      <th>Length</th>\n",
       "      <th>Width</th>\n",
       "      <th>Material</th>\n",
       "      <th>Location</th>\n",
       "      <th>Number of views last 7 days</th>\n",
       "    </tr>\n",
       "  </thead>\n",
       "  <tbody>\n",
       "    <tr>\n",
       "      <th>0</th>\n",
       "      <td>False</td>\n",
       "      <td>False</td>\n",
       "      <td>False</td>\n",
       "      <td>False</td>\n",
       "      <td>False</td>\n",
       "      <td>False</td>\n",
       "      <td>False</td>\n",
       "      <td>True</td>\n",
       "      <td>False</td>\n",
       "      <td>False</td>\n",
       "    </tr>\n",
       "    <tr>\n",
       "      <th>1</th>\n",
       "      <td>False</td>\n",
       "      <td>False</td>\n",
       "      <td>False</td>\n",
       "      <td>False</td>\n",
       "      <td>False</td>\n",
       "      <td>False</td>\n",
       "      <td>False</td>\n",
       "      <td>False</td>\n",
       "      <td>False</td>\n",
       "      <td>False</td>\n",
       "    </tr>\n",
       "    <tr>\n",
       "      <th>2</th>\n",
       "      <td>False</td>\n",
       "      <td>False</td>\n",
       "      <td>False</td>\n",
       "      <td>False</td>\n",
       "      <td>False</td>\n",
       "      <td>False</td>\n",
       "      <td>False</td>\n",
       "      <td>False</td>\n",
       "      <td>False</td>\n",
       "      <td>False</td>\n",
       "    </tr>\n",
       "    <tr>\n",
       "      <th>3</th>\n",
       "      <td>False</td>\n",
       "      <td>False</td>\n",
       "      <td>False</td>\n",
       "      <td>False</td>\n",
       "      <td>False</td>\n",
       "      <td>False</td>\n",
       "      <td>False</td>\n",
       "      <td>True</td>\n",
       "      <td>False</td>\n",
       "      <td>False</td>\n",
       "    </tr>\n",
       "    <tr>\n",
       "      <th>4</th>\n",
       "      <td>False</td>\n",
       "      <td>False</td>\n",
       "      <td>False</td>\n",
       "      <td>False</td>\n",
       "      <td>False</td>\n",
       "      <td>False</td>\n",
       "      <td>False</td>\n",
       "      <td>False</td>\n",
       "      <td>False</td>\n",
       "      <td>False</td>\n",
       "    </tr>\n",
       "    <tr>\n",
       "      <th>...</th>\n",
       "      <td>...</td>\n",
       "      <td>...</td>\n",
       "      <td>...</td>\n",
       "      <td>...</td>\n",
       "      <td>...</td>\n",
       "      <td>...</td>\n",
       "      <td>...</td>\n",
       "      <td>...</td>\n",
       "      <td>...</td>\n",
       "      <td>...</td>\n",
       "    </tr>\n",
       "    <tr>\n",
       "      <th>9883</th>\n",
       "      <td>False</td>\n",
       "      <td>False</td>\n",
       "      <td>False</td>\n",
       "      <td>False</td>\n",
       "      <td>False</td>\n",
       "      <td>False</td>\n",
       "      <td>False</td>\n",
       "      <td>True</td>\n",
       "      <td>False</td>\n",
       "      <td>False</td>\n",
       "    </tr>\n",
       "    <tr>\n",
       "      <th>9884</th>\n",
       "      <td>False</td>\n",
       "      <td>False</td>\n",
       "      <td>True</td>\n",
       "      <td>False</td>\n",
       "      <td>False</td>\n",
       "      <td>False</td>\n",
       "      <td>False</td>\n",
       "      <td>False</td>\n",
       "      <td>False</td>\n",
       "      <td>False</td>\n",
       "    </tr>\n",
       "    <tr>\n",
       "      <th>9885</th>\n",
       "      <td>False</td>\n",
       "      <td>False</td>\n",
       "      <td>False</td>\n",
       "      <td>False</td>\n",
       "      <td>False</td>\n",
       "      <td>False</td>\n",
       "      <td>False</td>\n",
       "      <td>False</td>\n",
       "      <td>False</td>\n",
       "      <td>False</td>\n",
       "    </tr>\n",
       "    <tr>\n",
       "      <th>9886</th>\n",
       "      <td>False</td>\n",
       "      <td>False</td>\n",
       "      <td>False</td>\n",
       "      <td>False</td>\n",
       "      <td>False</td>\n",
       "      <td>False</td>\n",
       "      <td>False</td>\n",
       "      <td>True</td>\n",
       "      <td>False</td>\n",
       "      <td>False</td>\n",
       "    </tr>\n",
       "    <tr>\n",
       "      <th>9887</th>\n",
       "      <td>False</td>\n",
       "      <td>False</td>\n",
       "      <td>False</td>\n",
       "      <td>False</td>\n",
       "      <td>False</td>\n",
       "      <td>False</td>\n",
       "      <td>False</td>\n",
       "      <td>False</td>\n",
       "      <td>False</td>\n",
       "      <td>False</td>\n",
       "    </tr>\n",
       "  </tbody>\n",
       "</table>\n",
       "<p>9888 rows × 10 columns</p>\n",
       "</div>"
      ],
      "text/plain": [
       "      Price  Boat Type  Manufacturer   Type  Year Built  Length  Width  \\\n",
       "0     False      False         False  False       False   False  False   \n",
       "1     False      False         False  False       False   False  False   \n",
       "2     False      False         False  False       False   False  False   \n",
       "3     False      False         False  False       False   False  False   \n",
       "4     False      False         False  False       False   False  False   \n",
       "...     ...        ...           ...    ...         ...     ...    ...   \n",
       "9883  False      False         False  False       False   False  False   \n",
       "9884  False      False          True  False       False   False  False   \n",
       "9885  False      False         False  False       False   False  False   \n",
       "9886  False      False         False  False       False   False  False   \n",
       "9887  False      False         False  False       False   False  False   \n",
       "\n",
       "      Material  Location  Number of views last 7 days  \n",
       "0         True     False                        False  \n",
       "1        False     False                        False  \n",
       "2        False     False                        False  \n",
       "3         True     False                        False  \n",
       "4        False     False                        False  \n",
       "...        ...       ...                          ...  \n",
       "9883      True     False                        False  \n",
       "9884     False     False                        False  \n",
       "9885     False     False                        False  \n",
       "9886      True     False                        False  \n",
       "9887     False     False                        False  \n",
       "\n",
       "[9888 rows x 10 columns]"
      ]
     },
     "execution_count": 9,
     "metadata": {},
     "output_type": "execute_result"
    }
   ],
   "source": [
    "#how to check for nulls using isna() (same output as isnull())\n",
    "df.isna()"
   ]
  },
  {
   "cell_type": "code",
   "execution_count": 10,
   "id": "ba30867f",
   "metadata": {},
   "outputs": [
    {
     "data": {
      "text/plain": [
       "<AxesSubplot:>"
      ]
     },
     "execution_count": 10,
     "metadata": {},
     "output_type": "execute_result"
    },
    {
     "data": {
      "image/png": "[encoded data removed]",
      "text/plain": [
       "<Figure size 432x288 with 1 Axes>"
      ]
     },
     "metadata": {
      "needs_background": "light"
     },
     "output_type": "display_data"
    }
   ],
   "source": [
    "#we can also use a heatmap by using seaborn to see where we are missing data\n",
    "sns.heatmap(df.isnull(),yticklabels=False,cbar=False,cmap='viridis')"
   ]
  },
  {
   "cell_type": "code",
   "execution_count": 292,
   "id": "bac8b5a1",
   "metadata": {},
   "outputs": [
    {
     "data": {
      "text/plain": [
       "Price                          False\n",
       "Boat Type                      False\n",
       "Manufacturer                    True\n",
       "Type                            True\n",
       "Year Built                     False\n",
       "Length                          True\n",
       "Width                           True\n",
       "Material                        True\n",
       "Location                        True\n",
       "Number of views last 7 days    False\n",
       "dtype: bool"
      ]
     },
     "execution_count": 292,
     "metadata": {},
     "output_type": "execute_result"
    }
   ],
   "source": [
    "#how to id which columns have missing values; this code is helpful bc \n",
    "#then you know exactly \n",
    "#which columns to look at; the codes isna() or isnull() isnt as helpful bc you kind of \n",
    "#have to scroll through it in order to fig out where the true= null \n",
    "#are, but here it spells out exactly which columns have nulls\n",
    "df.isna().any()"
   ]
  },
  {
   "cell_type": "code",
   "execution_count": 293,
   "id": "70c1de19",
   "metadata": {},
   "outputs": [
    {
     "data": {
      "text/plain": [
       "Price                             0\n",
       "Boat Type                         0\n",
       "Manufacturer                   1338\n",
       "Type                              6\n",
       "Year Built                        0\n",
       "Length                            9\n",
       "Width                            56\n",
       "Material                       1749\n",
       "Location                         36\n",
       "Number of views last 7 days       0\n",
       "dtype: int64"
      ]
     },
     "execution_count": 293,
     "metadata": {},
     "output_type": "execute_result"
    }
   ],
   "source": [
    "#how to determine exactly how many null/na there are per column; \n",
    "#use this code\n",
    "df.isna().sum()"
   ]
  },
  {
   "cell_type": "code",
   "execution_count": 294,
   "id": "556e38f6",
   "metadata": {},
   "outputs": [
    {
     "data": {
      "text/plain": [
       "6"
      ]
     },
     "execution_count": 294,
     "metadata": {},
     "output_type": "execute_result"
    }
   ],
   "source": [
    "#how to identify the number of columns that have nulls/na\n",
    "df.isna().any().sum()"
   ]
  },
  {
   "cell_type": "code",
   "execution_count": 295,
   "id": "d7b9dfb3",
   "metadata": {},
   "outputs": [
    {
     "data": {
      "text/plain": [
       "9888"
      ]
     },
     "execution_count": 295,
     "metadata": {},
     "output_type": "execute_result"
    }
   ],
   "source": [
    "#how to determine the number of records in your dataset\n",
    "len(df)"
   ]
  },
  {
   "cell_type": "code",
   "execution_count": 296,
   "id": "5c3b3abf",
   "metadata": {},
   "outputs": [
    {
     "data": {
      "text/plain": [
       "0.3640776699029126"
      ]
     },
     "execution_count": 296,
     "metadata": {},
     "output_type": "execute_result"
    }
   ],
   "source": [
    "#now im going to figure out the percentages of missing data per column\n",
    "#Manufacturer\n",
    "1338/9888 #13.5%\n",
    "#Type\n",
    "(6/9888)*100 #0.0607%\n",
    "#Length\n",
    "(9/9888)*100 #0.0910%\n",
    "#Width\n",
    "(56/9888)*100 #0.566%\n",
    "#Material\n",
    "(1749/9888)*100 #17.7%\n",
    "#Location\n",
    "(36/9888)*100 #0.364%"
   ]
  },
  {
   "cell_type": "code",
   "execution_count": 297,
   "id": "fac3a130",
   "metadata": {},
   "outputs": [],
   "source": [
    "#now im going to look at each column that has nulls to see if i need to impute values or \n",
    "#drop that data altogether by looking at the excel file \n",
    "#(open excel file)for the empty blanks in the Manufacturer column, \n",
    "#im going to give the name as Other"
   ]
  },
  {
   "cell_type": "code",
   "execution_count": 298,
   "id": "0c4e4da2",
   "metadata": {},
   "outputs": [],
   "source": [
    "df[\"Manufacturer\"].fillna(\"Other\", inplace = True)"
   ]
  },
  {
   "cell_type": "code",
   "execution_count": 299,
   "id": "d82e5fc4",
   "metadata": {},
   "outputs": [],
   "source": [
    "#this code converts my newly manipulated data into a csv file named\n",
    "#Manufacturer_filled\n",
    "df.to_csv('Manufacturer_filled.csv')"
   ]
  },
  {
   "cell_type": "code",
   "execution_count": 300,
   "id": "80b58a2d",
   "metadata": {},
   "outputs": [],
   "source": [
    "#now im going to import the newly manipulated data where the blanks \n",
    "#in the Manufacturer column were changed to \"Other\"\n",
    "Manufacturer_filled = pd.read_csv(\"Manufacturer_filled.csv\") "
   ]
  },
  {
   "cell_type": "code",
   "execution_count": 301,
   "id": "73d7d1c7",
   "metadata": {},
   "outputs": [
    {
     "data": {
      "text/plain": [
       "Unnamed: 0                        0\n",
       "Price                             0\n",
       "Boat Type                         0\n",
       "Manufacturer                      0\n",
       "Type                              6\n",
       "Year Built                        0\n",
       "Length                            9\n",
       "Width                            56\n",
       "Material                       1749\n",
       "Location                         36\n",
       "Number of views last 7 days       0\n",
       "dtype: int64"
      ]
     },
     "execution_count": 301,
     "metadata": {},
     "output_type": "execute_result"
    }
   ],
   "source": [
    "#how to determine exactly how many null/na there are per column; \n",
    "#use this code\n",
    "Manufacturer_filled.isna().sum()"
   ]
  },
  {
   "cell_type": "code",
   "execution_count": 302,
   "id": "796a3807",
   "metadata": {},
   "outputs": [],
   "source": [
    "#filling blanks in Material column with \"Unknown\"\n",
    "Manufacturer_filled[\"Material\"].fillna(\"Unknown\", inplace = True)"
   ]
  },
  {
   "cell_type": "code",
   "execution_count": 303,
   "id": "009457f4",
   "metadata": {},
   "outputs": [],
   "source": [
    "#this code converts my newly manipulated data into a csv file named\n",
    "#Material_filled\n",
    "Manufacturer_filled.to_csv('Material_filled.csv')"
   ]
  },
  {
   "cell_type": "code",
   "execution_count": 304,
   "id": "1091279e",
   "metadata": {},
   "outputs": [],
   "source": [
    "#now im going to import the newly manipulated data where the blanks \n",
    "#in the Manufacturer column were changed to \"Other\"\n",
    "Material_filled = pd.read_csv(\"Material_filled.csv\") "
   ]
  },
  {
   "cell_type": "code",
   "execution_count": 305,
   "id": "46ebcf69",
   "metadata": {},
   "outputs": [
    {
     "data": {
      "text/plain": [
       "Unnamed: 0                      0\n",
       "Unnamed: 0.1                    0\n",
       "Price                           0\n",
       "Boat Type                       0\n",
       "Manufacturer                    0\n",
       "Type                            6\n",
       "Year Built                      0\n",
       "Length                          9\n",
       "Width                          56\n",
       "Material                        0\n",
       "Location                       36\n",
       "Number of views last 7 days     0\n",
       "dtype: int64"
      ]
     },
     "execution_count": 305,
     "metadata": {},
     "output_type": "execute_result"
    }
   ],
   "source": [
    "#how to determine exactly how many null/na there are per column; \n",
    "#use this code\n",
    "Material_filled.isna().sum()"
   ]
  },
  {
   "cell_type": "code",
   "execution_count": 306,
   "id": "2fe95afc",
   "metadata": {},
   "outputs": [],
   "source": [
    "#now i will impute missing lengths and widths by organizing the data \n",
    "#so that all of the manufacturer groups are together and listed\n",
    "# in abc order"
   ]
  },
  {
   "cell_type": "code",
   "execution_count": 307,
   "id": "da3623fe",
   "metadata": {},
   "outputs": [
    {
     "data": {
      "text/plain": [
       "2.08"
      ]
     },
     "execution_count": 307,
     "metadata": {},
     "output_type": "execute_result"
    }
   ],
   "source": [
    "#runabout length and width id 7221\n",
    "#length\n",
    "(5.1 + 5.6 + 5.8)/3\n",
    "#width\n",
    "(2.02 + 2.2 + 2.02)/3"
   ]
  },
  {
   "cell_type": "code",
   "execution_count": 308,
   "id": "50f7e19f",
   "metadata": {},
   "outputs": [
    {
     "data": {
      "text/plain": [
       "4.6979999999999995"
      ]
     },
     "execution_count": 308,
     "metadata": {},
     "output_type": "execute_result"
    }
   ],
   "source": [
    "#mean length for orkney boats\n",
    "(4.52 + 5.2 + 4.52 + 4.88 + 4.37)/5"
   ]
  },
  {
   "cell_type": "code",
   "execution_count": 309,
   "id": "9cfb25a0",
   "metadata": {},
   "outputs": [],
   "source": [
    "#we will use 4.70 as the mean length for boat type: fishing, \n",
    "#manufacturer: orkney power boats id 5334"
   ]
  },
  {
   "cell_type": "code",
   "execution_count": 310,
   "id": "5b195276",
   "metadata": {},
   "outputs": [
    {
     "data": {
      "text/plain": [
       "1.844"
      ]
     },
     "execution_count": 310,
     "metadata": {},
     "output_type": "execute_result"
    }
   ],
   "source": [
    "#mean width for orkney boats\n",
    "(1.83 + 2 + 1.83 + 1.83 + 1.73)/5"
   ]
  },
  {
   "cell_type": "code",
   "execution_count": 311,
   "id": "2df14a34",
   "metadata": {},
   "outputs": [],
   "source": [
    "#we will use 1.84 as the mean width for boat type: fishing,\n",
    "#manufacturer: orkney power boats id 5334"
   ]
  },
  {
   "cell_type": "code",
   "execution_count": 312,
   "id": "c741f5f9",
   "metadata": {},
   "outputs": [
    {
     "data": {
      "text/plain": [
       "2.254"
      ]
     },
     "execution_count": 312,
     "metadata": {},
     "output_type": "execute_result"
    }
   ],
   "source": [
    "#correct craft power boats water ski id 9301\n",
    "#mean length\n",
    "(5.9 + 6 + 5 + 6 + 5.9)/5\n",
    "#mean width\n",
    "(2.32 + 2.33 + 2 + 2.3 + 2.32)/5\n"
   ]
  },
  {
   "cell_type": "code",
   "execution_count": 313,
   "id": "cd2156f5",
   "metadata": {},
   "outputs": [
    {
     "data": {
      "text/plain": [
       "2.5614285714285714"
      ]
     },
     "execution_count": 313,
     "metadata": {},
     "output_type": "execute_result"
    }
   ],
   "source": [
    "#nautique power boats wakeboard/wakes id 6405\n",
    "#mean length\n",
    "(7.1 + 6.7 + 7.7 + 7.35 + 8.31 + 7.65 + 7.7)/7\n",
    "#mean width\n",
    "(2.49 + 2.54 + 2.59 + 2.54 + 2.59 + 2.59 + 2.59)/7"
   ]
  },
  {
   "cell_type": "code",
   "execution_count": 314,
   "id": "d74cd0f6",
   "metadata": {},
   "outputs": [],
   "source": [
    "#now im going to import the newly manipulated data where the blanks for some of the lengths \n",
    "#are filled out\n",
    "lw_partial_fill = pd.read_csv(\"length_width_filled.csv\") "
   ]
  },
  {
   "cell_type": "code",
   "execution_count": 315,
   "id": "658536a4",
   "metadata": {},
   "outputs": [
    {
     "data": {
      "text/html": [
       "<div>\n",
       "<style scoped>\n",
       "    .dataframe tbody tr th:only-of-type {\n",
       "        vertical-align: middle;\n",
       "    }\n",
       "\n",
       "    .dataframe tbody tr th {\n",
       "        vertical-align: top;\n",
       "    }\n",
       "\n",
       "    .dataframe thead th {\n",
       "        text-align: right;\n",
       "    }\n",
       "</style>\n",
       "<table border=\"1\" class=\"dataframe\">\n",
       "  <thead>\n",
       "    <tr style=\"text-align: right;\">\n",
       "      <th></th>\n",
       "      <th>Unnamed: 0</th>\n",
       "      <th>Unnamed: 0.1</th>\n",
       "      <th>Price</th>\n",
       "      <th>Boat Type</th>\n",
       "      <th>Manufacturer</th>\n",
       "      <th>Type</th>\n",
       "      <th>Year Built</th>\n",
       "      <th>Length</th>\n",
       "      <th>Width</th>\n",
       "      <th>Material</th>\n",
       "      <th>Location</th>\n",
       "      <th>Number of views last 7 days</th>\n",
       "    </tr>\n",
       "  </thead>\n",
       "  <tbody>\n",
       "    <tr>\n",
       "      <th>0</th>\n",
       "      <td>1767</td>\n",
       "      <td>1767</td>\n",
       "      <td>EUR 99800</td>\n",
       "      <td>Motor Yacht</td>\n",
       "      <td>Ãchsner power boats</td>\n",
       "      <td>Used boat,Diesel</td>\n",
       "      <td>2014</td>\n",
       "      <td>9.05</td>\n",
       "      <td>2.55</td>\n",
       "      <td>GRP</td>\n",
       "      <td>Germany Â» Rhein Â» Schierstein</td>\n",
       "      <td>244</td>\n",
       "    </tr>\n",
       "    <tr>\n",
       "      <th>1</th>\n",
       "      <td>6052</td>\n",
       "      <td>6052</td>\n",
       "      <td>EUR 127000</td>\n",
       "      <td>House Boat</td>\n",
       "      <td>2 emme marine power boats</td>\n",
       "      <td>Used boat,Unleaded</td>\n",
       "      <td>2020</td>\n",
       "      <td>9.96</td>\n",
       "      <td>6.31</td>\n",
       "      <td>GRP</td>\n",
       "      <td>Italy Â» Puglia Â» Manfredonia</td>\n",
       "      <td>314</td>\n",
       "    </tr>\n",
       "    <tr>\n",
       "      <th>2</th>\n",
       "      <td>1979</td>\n",
       "      <td>1979</td>\n",
       "      <td>EUR 130000</td>\n",
       "      <td>Motor Yacht</td>\n",
       "      <td>3B Craft power boats</td>\n",
       "      <td>Used boat,Diesel</td>\n",
       "      <td>2005</td>\n",
       "      <td>11.70</td>\n",
       "      <td>4.08</td>\n",
       "      <td>GRP</td>\n",
       "      <td>Italy Â» Mar Tirreno</td>\n",
       "      <td>36</td>\n",
       "    </tr>\n",
       "    <tr>\n",
       "      <th>3</th>\n",
       "      <td>5870</td>\n",
       "      <td>5870</td>\n",
       "      <td>EUR 140000</td>\n",
       "      <td>Flybridge</td>\n",
       "      <td>3B Craft power boats</td>\n",
       "      <td>Used boat,Diesel</td>\n",
       "      <td>2008</td>\n",
       "      <td>9.90</td>\n",
       "      <td>3.80</td>\n",
       "      <td>GRP</td>\n",
       "      <td>Italy Â» Mar Tirreno</td>\n",
       "      <td>41</td>\n",
       "    </tr>\n",
       "    <tr>\n",
       "      <th>4</th>\n",
       "      <td>129</td>\n",
       "      <td>129</td>\n",
       "      <td>EUR 10000</td>\n",
       "      <td>Sport Boat</td>\n",
       "      <td>A. Mostes power boats</td>\n",
       "      <td>Used boat,Unleaded</td>\n",
       "      <td>1991</td>\n",
       "      <td>7.15</td>\n",
       "      <td>2.36</td>\n",
       "      <td>GRP</td>\n",
       "      <td>Italy Â» Lombardia - Trentino Alto Adige Â» Ca...</td>\n",
       "      <td>783</td>\n",
       "    </tr>\n",
       "    <tr>\n",
       "      <th>...</th>\n",
       "      <td>...</td>\n",
       "      <td>...</td>\n",
       "      <td>...</td>\n",
       "      <td>...</td>\n",
       "      <td>...</td>\n",
       "      <td>...</td>\n",
       "      <td>...</td>\n",
       "      <td>...</td>\n",
       "      <td>...</td>\n",
       "      <td>...</td>\n",
       "      <td>...</td>\n",
       "      <td>...</td>\n",
       "    </tr>\n",
       "    <tr>\n",
       "      <th>9882</th>\n",
       "      <td>5722</td>\n",
       "      <td>5722</td>\n",
       "      <td>EUR 150000</td>\n",
       "      <td>Trawler</td>\n",
       "      <td>Zijlmans power boats</td>\n",
       "      <td>Used boat,Diesel</td>\n",
       "      <td>1997</td>\n",
       "      <td>14.00</td>\n",
       "      <td>4.20</td>\n",
       "      <td>Steel</td>\n",
       "      <td>Netherlands Â» jachthaven Drimmelen bezichtigi...</td>\n",
       "      <td>107</td>\n",
       "    </tr>\n",
       "    <tr>\n",
       "      <th>9883</th>\n",
       "      <td>5791</td>\n",
       "      <td>5791</td>\n",
       "      <td>EUR 148000</td>\n",
       "      <td>Sport Boat</td>\n",
       "      <td>Zijlmans power boats</td>\n",
       "      <td>Used boat</td>\n",
       "      <td>2003</td>\n",
       "      <td>13.00</td>\n",
       "      <td>4.20</td>\n",
       "      <td>Unknown</td>\n",
       "      <td>Germany Â» Ausstellungshalle Schweich</td>\n",
       "      <td>80</td>\n",
       "    </tr>\n",
       "    <tr>\n",
       "      <th>9884</th>\n",
       "      <td>7576</td>\n",
       "      <td>7576</td>\n",
       "      <td>EUR 59000</td>\n",
       "      <td>Trawler</td>\n",
       "      <td>Zijlmans power boats</td>\n",
       "      <td>Used boat</td>\n",
       "      <td>1996</td>\n",
       "      <td>10.80</td>\n",
       "      <td>3.50</td>\n",
       "      <td>Steel</td>\n",
       "      <td>Netherlands Â» In verkoophaven</td>\n",
       "      <td>78</td>\n",
       "    </tr>\n",
       "    <tr>\n",
       "      <th>9885</th>\n",
       "      <td>9718</td>\n",
       "      <td>9718</td>\n",
       "      <td>EUR 10000</td>\n",
       "      <td>Deck Boat,Water ski</td>\n",
       "      <td>Zodiac power boats</td>\n",
       "      <td>Used boat,Unleaded</td>\n",
       "      <td>2010</td>\n",
       "      <td>4.70</td>\n",
       "      <td>2.05</td>\n",
       "      <td>Plastic</td>\n",
       "      <td>Belgium Â» Lievegem</td>\n",
       "      <td>248</td>\n",
       "    </tr>\n",
       "    <tr>\n",
       "      <th>9886</th>\n",
       "      <td>5078</td>\n",
       "      <td>5078</td>\n",
       "      <td>EUR 229000</td>\n",
       "      <td>Trawler</td>\n",
       "      <td>Zuiderzee power boats</td>\n",
       "      <td>Used boat</td>\n",
       "      <td>2000</td>\n",
       "      <td>14.00</td>\n",
       "      <td>4.25</td>\n",
       "      <td>Steel</td>\n",
       "      <td>Netherlands Â» In verkoophaven</td>\n",
       "      <td>123</td>\n",
       "    </tr>\n",
       "  </tbody>\n",
       "</table>\n",
       "<p>9887 rows × 12 columns</p>\n",
       "</div>"
      ],
      "text/plain": [
       "      Unnamed: 0  Unnamed: 0.1       Price            Boat Type  \\\n",
       "0           1767          1767   EUR 99800          Motor Yacht   \n",
       "1           6052          6052  EUR 127000           House Boat   \n",
       "2           1979          1979  EUR 130000          Motor Yacht   \n",
       "3           5870          5870  EUR 140000            Flybridge   \n",
       "4            129           129   EUR 10000           Sport Boat   \n",
       "...          ...           ...         ...                  ...   \n",
       "9882        5722          5722  EUR 150000              Trawler   \n",
       "9883        5791          5791  EUR 148000           Sport Boat   \n",
       "9884        7576          7576   EUR 59000              Trawler   \n",
       "9885        9718          9718   EUR 10000  Deck Boat,Water ski   \n",
       "9886        5078          5078  EUR 229000              Trawler   \n",
       "\n",
       "                   Manufacturer                Type  Year Built  Length  \\\n",
       "0          Ãchsner power boats    Used boat,Diesel        2014    9.05   \n",
       "1     2 emme marine power boats  Used boat,Unleaded        2020    9.96   \n",
       "2          3B Craft power boats    Used boat,Diesel        2005   11.70   \n",
       "3          3B Craft power boats    Used boat,Diesel        2008    9.90   \n",
       "4         A. Mostes power boats  Used boat,Unleaded        1991    7.15   \n",
       "...                         ...                 ...         ...     ...   \n",
       "9882       Zijlmans power boats    Used boat,Diesel        1997   14.00   \n",
       "9883       Zijlmans power boats           Used boat        2003   13.00   \n",
       "9884       Zijlmans power boats           Used boat        1996   10.80   \n",
       "9885         Zodiac power boats  Used boat,Unleaded        2010    4.70   \n",
       "9886      Zuiderzee power boats           Used boat        2000   14.00   \n",
       "\n",
       "      Width Material                                           Location  \\\n",
       "0      2.55      GRP                    Germany Â» Rhein Â» Schierstein   \n",
       "1      6.31      GRP                     Italy Â» Puglia Â» Manfredonia   \n",
       "2      4.08      GRP                               Italy Â» Mar Tirreno   \n",
       "3      3.80      GRP                               Italy Â» Mar Tirreno   \n",
       "4      2.36      GRP  Italy Â» Lombardia - Trentino Alto Adige Â» Ca...   \n",
       "...     ...      ...                                                ...   \n",
       "9882   4.20    Steel  Netherlands Â» jachthaven Drimmelen bezichtigi...   \n",
       "9883   4.20  Unknown              Germany Â» Ausstellungshalle Schweich   \n",
       "9884   3.50    Steel                     Netherlands Â» In verkoophaven   \n",
       "9885   2.05  Plastic                                Belgium Â» Lievegem   \n",
       "9886   4.25    Steel                     Netherlands Â» In verkoophaven   \n",
       "\n",
       "      Number of views last 7 days  \n",
       "0                             244  \n",
       "1                             314  \n",
       "2                              36  \n",
       "3                              41  \n",
       "4                             783  \n",
       "...                           ...  \n",
       "9882                          107  \n",
       "9883                           80  \n",
       "9884                           78  \n",
       "9885                          248  \n",
       "9886                          123  \n",
       "\n",
       "[9887 rows x 12 columns]"
      ]
     },
     "execution_count": 315,
     "metadata": {},
     "output_type": "execute_result"
    }
   ],
   "source": [
    "lw_partial_fill"
   ]
  },
  {
   "cell_type": "code",
   "execution_count": 316,
   "id": "b12b36c9",
   "metadata": {},
   "outputs": [
    {
     "data": {
      "text/html": [
       "<div>\n",
       "<style scoped>\n",
       "    .dataframe tbody tr th:only-of-type {\n",
       "        vertical-align: middle;\n",
       "    }\n",
       "\n",
       "    .dataframe tbody tr th {\n",
       "        vertical-align: top;\n",
       "    }\n",
       "\n",
       "    .dataframe thead th {\n",
       "        text-align: right;\n",
       "    }\n",
       "</style>\n",
       "<table border=\"1\" class=\"dataframe\">\n",
       "  <thead>\n",
       "    <tr style=\"text-align: right;\">\n",
       "      <th></th>\n",
       "      <th>Unnamed: 0</th>\n",
       "      <th>Unnamed: 0.1</th>\n",
       "      <th>Price</th>\n",
       "      <th>Boat Type</th>\n",
       "      <th>Manufacturer</th>\n",
       "      <th>Type</th>\n",
       "      <th>Year Built</th>\n",
       "      <th>Length</th>\n",
       "      <th>Width</th>\n",
       "      <th>Material</th>\n",
       "      <th>Location</th>\n",
       "      <th>Number of views last 7 days</th>\n",
       "    </tr>\n",
       "  </thead>\n",
       "  <tbody>\n",
       "    <tr>\n",
       "      <th>5340</th>\n",
       "      <td>6</td>\n",
       "      <td>6</td>\n",
       "      <td>CHF 3600</td>\n",
       "      <td>Catamaran</td>\n",
       "      <td>Other</td>\n",
       "      <td>Used boat,Unleaded</td>\n",
       "      <td>1999</td>\n",
       "      <td>6.20</td>\n",
       "      <td>2.38</td>\n",
       "      <td>Aluminium</td>\n",
       "      <td>Switzerland Â» Neuenburgersee Â» Yvonand</td>\n",
       "      <td>474</td>\n",
       "    </tr>\n",
       "    <tr>\n",
       "      <th>5341</th>\n",
       "      <td>7</td>\n",
       "      <td>7</td>\n",
       "      <td>DKK 24800</td>\n",
       "      <td>Sport Boat</td>\n",
       "      <td>Other</td>\n",
       "      <td>Used boat</td>\n",
       "      <td>0</td>\n",
       "      <td>3.00</td>\n",
       "      <td>2.26</td>\n",
       "      <td>Unknown</td>\n",
       "      <td>Denmark Â» Svendborg</td>\n",
       "      <td>134</td>\n",
       "    </tr>\n",
       "    <tr>\n",
       "      <th>5342</th>\n",
       "      <td>17</td>\n",
       "      <td>17</td>\n",
       "      <td>DKK 30000</td>\n",
       "      <td>Sport Boat</td>\n",
       "      <td>Other</td>\n",
       "      <td>Used boat</td>\n",
       "      <td>1985</td>\n",
       "      <td>4.00</td>\n",
       "      <td>1.00</td>\n",
       "      <td>Unknown</td>\n",
       "      <td>Denmark Â» Svendborg</td>\n",
       "      <td>124</td>\n",
       "    </tr>\n",
       "    <tr>\n",
       "      <th>5343</th>\n",
       "      <td>19</td>\n",
       "      <td>19</td>\n",
       "      <td>EUR 4000</td>\n",
       "      <td>Cabin Boat</td>\n",
       "      <td>Other</td>\n",
       "      <td>Used boat,Unleaded</td>\n",
       "      <td>2011</td>\n",
       "      <td>6.37</td>\n",
       "      <td>2.31</td>\n",
       "      <td>GRP</td>\n",
       "      <td>Germany Â» Bayern Â» Forchheim/Ofr.</td>\n",
       "      <td>330</td>\n",
       "    </tr>\n",
       "    <tr>\n",
       "      <th>5344</th>\n",
       "      <td>24</td>\n",
       "      <td>24</td>\n",
       "      <td>EUR 3900</td>\n",
       "      <td>Cabin Boat</td>\n",
       "      <td>Other</td>\n",
       "      <td>Used boat</td>\n",
       "      <td>1985</td>\n",
       "      <td>6.53</td>\n",
       "      <td>2.47</td>\n",
       "      <td>Unknown</td>\n",
       "      <td>France Â» Marseille, France</td>\n",
       "      <td>383</td>\n",
       "    </tr>\n",
       "    <tr>\n",
       "      <th>...</th>\n",
       "      <td>...</td>\n",
       "      <td>...</td>\n",
       "      <td>...</td>\n",
       "      <td>...</td>\n",
       "      <td>...</td>\n",
       "      <td>...</td>\n",
       "      <td>...</td>\n",
       "      <td>...</td>\n",
       "      <td>...</td>\n",
       "      <td>...</td>\n",
       "      <td>...</td>\n",
       "      <td>...</td>\n",
       "    </tr>\n",
       "    <tr>\n",
       "      <th>6673</th>\n",
       "      <td>9864</td>\n",
       "      <td>9864</td>\n",
       "      <td>EUR 4990</td>\n",
       "      <td>Sport Boat</td>\n",
       "      <td>Other</td>\n",
       "      <td>Used boat,Unleaded</td>\n",
       "      <td>0</td>\n",
       "      <td>4.60</td>\n",
       "      <td>1.80</td>\n",
       "      <td>GRP</td>\n",
       "      <td>Germany</td>\n",
       "      <td>185</td>\n",
       "    </tr>\n",
       "    <tr>\n",
       "      <th>6674</th>\n",
       "      <td>9866</td>\n",
       "      <td>9866</td>\n",
       "      <td>DKK 36500</td>\n",
       "      <td>Sport Boat</td>\n",
       "      <td>Other</td>\n",
       "      <td>Used boat</td>\n",
       "      <td>1985</td>\n",
       "      <td>4.00</td>\n",
       "      <td>1.00</td>\n",
       "      <td>Unknown</td>\n",
       "      <td>Denmark Â» Svendborg</td>\n",
       "      <td>96</td>\n",
       "    </tr>\n",
       "    <tr>\n",
       "      <th>6675</th>\n",
       "      <td>9873</td>\n",
       "      <td>9873</td>\n",
       "      <td>EUR 4799</td>\n",
       "      <td>Working Boat</td>\n",
       "      <td>Other</td>\n",
       "      <td>new boat from stock,Electric</td>\n",
       "      <td>2019</td>\n",
       "      <td>3.64</td>\n",
       "      <td>1.37</td>\n",
       "      <td>Unknown</td>\n",
       "      <td>Germany Â» Bayern Â» Boote Jochum</td>\n",
       "      <td>41</td>\n",
       "    </tr>\n",
       "    <tr>\n",
       "      <th>6676</th>\n",
       "      <td>9875</td>\n",
       "      <td>9875</td>\n",
       "      <td>EUR 4790</td>\n",
       "      <td>Classic</td>\n",
       "      <td>Other</td>\n",
       "      <td>Used boat</td>\n",
       "      <td>1962</td>\n",
       "      <td>4.10</td>\n",
       "      <td>1.50</td>\n",
       "      <td>Wood</td>\n",
       "      <td>Austria Â» PÃ¶llau</td>\n",
       "      <td>188</td>\n",
       "    </tr>\n",
       "    <tr>\n",
       "      <th>6677</th>\n",
       "      <td>9884</td>\n",
       "      <td>9884</td>\n",
       "      <td>EUR 4516</td>\n",
       "      <td>Sport Boat</td>\n",
       "      <td>Other</td>\n",
       "      <td>new boat from stock</td>\n",
       "      <td>0</td>\n",
       "      <td>4.17</td>\n",
       "      <td>1.68</td>\n",
       "      <td>GRP</td>\n",
       "      <td>Germany Â» Hamburg Â» HAMBURG</td>\n",
       "      <td>94</td>\n",
       "    </tr>\n",
       "  </tbody>\n",
       "</table>\n",
       "<p>1338 rows × 12 columns</p>\n",
       "</div>"
      ],
      "text/plain": [
       "      Unnamed: 0  Unnamed: 0.1      Price     Boat Type Manufacturer  \\\n",
       "5340           6             6   CHF 3600     Catamaran        Other   \n",
       "5341           7             7  DKK 24800    Sport Boat        Other   \n",
       "5342          17            17  DKK 30000    Sport Boat        Other   \n",
       "5343          19            19   EUR 4000    Cabin Boat        Other   \n",
       "5344          24            24   EUR 3900    Cabin Boat        Other   \n",
       "...          ...           ...        ...           ...          ...   \n",
       "6673        9864          9864   EUR 4990    Sport Boat        Other   \n",
       "6674        9866          9866  DKK 36500    Sport Boat        Other   \n",
       "6675        9873          9873   EUR 4799  Working Boat        Other   \n",
       "6676        9875          9875   EUR 4790       Classic        Other   \n",
       "6677        9884          9884   EUR 4516    Sport Boat        Other   \n",
       "\n",
       "                              Type  Year Built  Length  Width   Material  \\\n",
       "5340            Used boat,Unleaded        1999    6.20   2.38  Aluminium   \n",
       "5341                     Used boat           0    3.00   2.26    Unknown   \n",
       "5342                     Used boat        1985    4.00   1.00    Unknown   \n",
       "5343            Used boat,Unleaded        2011    6.37   2.31        GRP   \n",
       "5344                     Used boat        1985    6.53   2.47    Unknown   \n",
       "...                            ...         ...     ...    ...        ...   \n",
       "6673            Used boat,Unleaded           0    4.60   1.80        GRP   \n",
       "6674                     Used boat        1985    4.00   1.00    Unknown   \n",
       "6675  new boat from stock,Electric        2019    3.64   1.37    Unknown   \n",
       "6676                     Used boat        1962    4.10   1.50       Wood   \n",
       "6677           new boat from stock           0    4.17   1.68        GRP   \n",
       "\n",
       "                                       Location  Number of views last 7 days  \n",
       "5340  Switzerland Â» Neuenburgersee Â» Yvonand                           474  \n",
       "5341                       Denmark Â» Svendborg                          134  \n",
       "5342                       Denmark Â» Svendborg                          124  \n",
       "5343        Germany Â» Bayern Â» Forchheim/Ofr.                          330  \n",
       "5344                France Â» Marseille, France                          383  \n",
       "...                                         ...                          ...  \n",
       "6673                                    Germany                          185  \n",
       "6674                       Denmark Â» Svendborg                           96  \n",
       "6675          Germany Â» Bayern Â» Boote Jochum                           41  \n",
       "6676                         Austria Â» PÃ¶llau                          188  \n",
       "6677              Germany Â» Hamburg Â» HAMBURG                           94  \n",
       "\n",
       "[1338 rows x 12 columns]"
      ]
     },
     "execution_count": 316,
     "metadata": {},
     "output_type": "execute_result"
    }
   ],
   "source": [
    "lw_partial_fill[(lw_partial_fill.Manufacturer == \"Other\")]\n"
   ]
  },
  {
   "cell_type": "code",
   "execution_count": 317,
   "id": "65aceb32",
   "metadata": {},
   "outputs": [],
   "source": [
    "#how to extract rows based off of criteria from more than one column\n",
    "#using this information i will determine how to impute the blank values\n",
    "#for lenght and width for boats that have Boat Type: Sport Boat and \n",
    "#Manufacturer = Other\n",
    "lwpf=lw_partial_fill.loc[(lw_partial_fill[\"Manufacturer\"] == \"Other\") & (lw_partial_fill[\"Boat Type\"] == \"Sport Boat\")]"
   ]
  },
  {
   "cell_type": "code",
   "execution_count": 318,
   "id": "deb1f612",
   "metadata": {},
   "outputs": [],
   "source": [
    "#im going to export this chunk that only contains records with Manufacturer = Other and Boat Type = Sport Boat as a csv, then i'll examine the excel file \n",
    "lwpf.to_csv('lwpf.csv')\n",
    "#looking at the excel file, since the missing values we need are for when the yr is zero im going to extract the columns where the year is zero"
   ]
  },
  {
   "cell_type": "code",
   "execution_count": 319,
   "id": "bc1b8638",
   "metadata": {},
   "outputs": [
    {
     "data": {
      "text/html": [
       "<div>\n",
       "<style scoped>\n",
       "    .dataframe tbody tr th:only-of-type {\n",
       "        vertical-align: middle;\n",
       "    }\n",
       "\n",
       "    .dataframe tbody tr th {\n",
       "        vertical-align: top;\n",
       "    }\n",
       "\n",
       "    .dataframe thead th {\n",
       "        text-align: right;\n",
       "    }\n",
       "</style>\n",
       "<table border=\"1\" class=\"dataframe\">\n",
       "  <thead>\n",
       "    <tr style=\"text-align: right;\">\n",
       "      <th></th>\n",
       "      <th>Unnamed: 0</th>\n",
       "      <th>Unnamed: 0.1</th>\n",
       "      <th>Price</th>\n",
       "      <th>Boat Type</th>\n",
       "      <th>Manufacturer</th>\n",
       "      <th>Type</th>\n",
       "      <th>Year Built</th>\n",
       "      <th>Length</th>\n",
       "      <th>Width</th>\n",
       "      <th>Material</th>\n",
       "      <th>Location</th>\n",
       "      <th>Number of views last 7 days</th>\n",
       "    </tr>\n",
       "  </thead>\n",
       "  <tbody>\n",
       "    <tr>\n",
       "      <th>5341</th>\n",
       "      <td>7</td>\n",
       "      <td>7</td>\n",
       "      <td>DKK 24800</td>\n",
       "      <td>Sport Boat</td>\n",
       "      <td>Other</td>\n",
       "      <td>Used boat</td>\n",
       "      <td>0</td>\n",
       "      <td>3.00</td>\n",
       "      <td>2.26</td>\n",
       "      <td>Unknown</td>\n",
       "      <td>Denmark Â» Svendborg</td>\n",
       "      <td>134</td>\n",
       "    </tr>\n",
       "    <tr>\n",
       "      <th>5378</th>\n",
       "      <td>244</td>\n",
       "      <td>244</td>\n",
       "      <td>EUR 16200</td>\n",
       "      <td>Sport Boat</td>\n",
       "      <td>Other</td>\n",
       "      <td>new boat from stock</td>\n",
       "      <td>0</td>\n",
       "      <td>5.70</td>\n",
       "      <td>2.50</td>\n",
       "      <td>GRP</td>\n",
       "      <td>Germany Â» Berlin Â» Berlin</td>\n",
       "      <td>108</td>\n",
       "    </tr>\n",
       "    <tr>\n",
       "      <th>5472</th>\n",
       "      <td>1042</td>\n",
       "      <td>1042</td>\n",
       "      <td>EUR 50337</td>\n",
       "      <td>Sport Boat</td>\n",
       "      <td>Other</td>\n",
       "      <td>new boat from stock,Unleaded</td>\n",
       "      <td>0</td>\n",
       "      <td>6.90</td>\n",
       "      <td>2.50</td>\n",
       "      <td>GRP</td>\n",
       "      <td>Germany Â» AB WERFT</td>\n",
       "      <td>37</td>\n",
       "    </tr>\n",
       "    <tr>\n",
       "      <th>5505</th>\n",
       "      <td>1374</td>\n",
       "      <td>1374</td>\n",
       "      <td>EUR 69853</td>\n",
       "      <td>Sport Boat</td>\n",
       "      <td>Other</td>\n",
       "      <td>new boat from stock,Unleaded</td>\n",
       "      <td>0</td>\n",
       "      <td>7.80</td>\n",
       "      <td>2.64</td>\n",
       "      <td>GRP</td>\n",
       "      <td>Germany Â» AB WERFT</td>\n",
       "      <td>42</td>\n",
       "    </tr>\n",
       "    <tr>\n",
       "      <th>5981</th>\n",
       "      <td>5311</td>\n",
       "      <td>5311</td>\n",
       "      <td>EUR 197540</td>\n",
       "      <td>Sport Boat</td>\n",
       "      <td>Other</td>\n",
       "      <td>new boat from stock,Unleaded</td>\n",
       "      <td>0</td>\n",
       "      <td>9.99</td>\n",
       "      <td>3.30</td>\n",
       "      <td>GRP</td>\n",
       "      <td>Germany Â» AB WERFT</td>\n",
       "      <td>37</td>\n",
       "    </tr>\n",
       "    <tr>\n",
       "      <th>6444</th>\n",
       "      <td>8648</td>\n",
       "      <td>8648</td>\n",
       "      <td>EUR 34500</td>\n",
       "      <td>Sport Boat</td>\n",
       "      <td>Other</td>\n",
       "      <td>Used boat,Electric</td>\n",
       "      <td>0</td>\n",
       "      <td>5.00</td>\n",
       "      <td>1.70</td>\n",
       "      <td>Wood</td>\n",
       "      <td>Austria Â» WÃ¶rthersee</td>\n",
       "      <td>50</td>\n",
       "    </tr>\n",
       "    <tr>\n",
       "      <th>6509</th>\n",
       "      <td>9089</td>\n",
       "      <td>9089</td>\n",
       "      <td>CHF 27000</td>\n",
       "      <td>Sport Boat</td>\n",
       "      <td>Other</td>\n",
       "      <td>new boat from stock</td>\n",
       "      <td>0</td>\n",
       "      <td>5.50</td>\n",
       "      <td>2.20</td>\n",
       "      <td>Aluminium</td>\n",
       "      <td>Switzerland Â» Thunersee</td>\n",
       "      <td>104</td>\n",
       "    </tr>\n",
       "    <tr>\n",
       "      <th>6583</th>\n",
       "      <td>9448</td>\n",
       "      <td>9448</td>\n",
       "      <td>CHF 18000</td>\n",
       "      <td>Sport Boat</td>\n",
       "      <td>Other</td>\n",
       "      <td>new boat from stock</td>\n",
       "      <td>0</td>\n",
       "      <td>5.00</td>\n",
       "      <td>2.10</td>\n",
       "      <td>Aluminium</td>\n",
       "      <td>Switzerland Â» Thunersee</td>\n",
       "      <td>163</td>\n",
       "    </tr>\n",
       "    <tr>\n",
       "      <th>6594</th>\n",
       "      <td>9483</td>\n",
       "      <td>9483</td>\n",
       "      <td>EUR 15980</td>\n",
       "      <td>Sport Boat</td>\n",
       "      <td>Other</td>\n",
       "      <td>new boat from stock</td>\n",
       "      <td>0</td>\n",
       "      <td>5.70</td>\n",
       "      <td>2.50</td>\n",
       "      <td>GRP</td>\n",
       "      <td>Germany Â» Berlin Â» Berlin</td>\n",
       "      <td>245</td>\n",
       "    </tr>\n",
       "    <tr>\n",
       "      <th>6663</th>\n",
       "      <td>9830</td>\n",
       "      <td>9830</td>\n",
       "      <td>EUR 6900</td>\n",
       "      <td>Sport Boat</td>\n",
       "      <td>Other</td>\n",
       "      <td>Used boat,Unleaded</td>\n",
       "      <td>0</td>\n",
       "      <td>6.00</td>\n",
       "      <td>1.95</td>\n",
       "      <td>GRP</td>\n",
       "      <td>Barssel</td>\n",
       "      <td>531</td>\n",
       "    </tr>\n",
       "    <tr>\n",
       "      <th>6673</th>\n",
       "      <td>9864</td>\n",
       "      <td>9864</td>\n",
       "      <td>EUR 4990</td>\n",
       "      <td>Sport Boat</td>\n",
       "      <td>Other</td>\n",
       "      <td>Used boat,Unleaded</td>\n",
       "      <td>0</td>\n",
       "      <td>4.60</td>\n",
       "      <td>1.80</td>\n",
       "      <td>GRP</td>\n",
       "      <td>Germany</td>\n",
       "      <td>185</td>\n",
       "    </tr>\n",
       "    <tr>\n",
       "      <th>6677</th>\n",
       "      <td>9884</td>\n",
       "      <td>9884</td>\n",
       "      <td>EUR 4516</td>\n",
       "      <td>Sport Boat</td>\n",
       "      <td>Other</td>\n",
       "      <td>new boat from stock</td>\n",
       "      <td>0</td>\n",
       "      <td>4.17</td>\n",
       "      <td>1.68</td>\n",
       "      <td>GRP</td>\n",
       "      <td>Germany Â» Hamburg Â» HAMBURG</td>\n",
       "      <td>94</td>\n",
       "    </tr>\n",
       "  </tbody>\n",
       "</table>\n",
       "</div>"
      ],
      "text/plain": [
       "      Unnamed: 0  Unnamed: 0.1       Price   Boat Type Manufacturer  \\\n",
       "5341           7             7   DKK 24800  Sport Boat        Other   \n",
       "5378         244           244   EUR 16200  Sport Boat        Other   \n",
       "5472        1042          1042   EUR 50337  Sport Boat        Other   \n",
       "5505        1374          1374   EUR 69853  Sport Boat        Other   \n",
       "5981        5311          5311  EUR 197540  Sport Boat        Other   \n",
       "6444        8648          8648   EUR 34500  Sport Boat        Other   \n",
       "6509        9089          9089   CHF 27000  Sport Boat        Other   \n",
       "6583        9448          9448   CHF 18000  Sport Boat        Other   \n",
       "6594        9483          9483   EUR 15980  Sport Boat        Other   \n",
       "6663        9830          9830    EUR 6900  Sport Boat        Other   \n",
       "6673        9864          9864    EUR 4990  Sport Boat        Other   \n",
       "6677        9884          9884    EUR 4516  Sport Boat        Other   \n",
       "\n",
       "                              Type  Year Built  Length  Width   Material  \\\n",
       "5341                     Used boat           0    3.00   2.26    Unknown   \n",
       "5378           new boat from stock           0    5.70   2.50        GRP   \n",
       "5472  new boat from stock,Unleaded           0    6.90   2.50        GRP   \n",
       "5505  new boat from stock,Unleaded           0    7.80   2.64        GRP   \n",
       "5981  new boat from stock,Unleaded           0    9.99   3.30        GRP   \n",
       "6444            Used boat,Electric           0    5.00   1.70       Wood   \n",
       "6509           new boat from stock           0    5.50   2.20  Aluminium   \n",
       "6583           new boat from stock           0    5.00   2.10  Aluminium   \n",
       "6594           new boat from stock           0    5.70   2.50        GRP   \n",
       "6663            Used boat,Unleaded           0    6.00   1.95        GRP   \n",
       "6673            Used boat,Unleaded           0    4.60   1.80        GRP   \n",
       "6677           new boat from stock           0    4.17   1.68        GRP   \n",
       "\n",
       "                           Location  Number of views last 7 days  \n",
       "5341           Denmark Â» Svendborg                          134  \n",
       "5378    Germany Â» Berlin Â» Berlin                          108  \n",
       "5472            Germany Â» AB WERFT                           37  \n",
       "5505            Germany Â» AB WERFT                           42  \n",
       "5981            Germany Â» AB WERFT                           37  \n",
       "6444         Austria Â» WÃ¶rthersee                           50  \n",
       "6509       Switzerland Â» Thunersee                          104  \n",
       "6583       Switzerland Â» Thunersee                          163  \n",
       "6594    Germany Â» Berlin Â» Berlin                          245  \n",
       "6663                        Barssel                          531  \n",
       "6673                        Germany                          185  \n",
       "6677  Germany Â» Hamburg Â» HAMBURG                           94  "
      ]
     },
     "execution_count": 319,
     "metadata": {},
     "output_type": "execute_result"
    }
   ],
   "source": [
    "lw_partial_fill.loc[(lw_partial_fill[\"Manufacturer\"] == \"Other\") & (lw_partial_fill[\"Boat Type\"] == \"Sport Boat\") & (lw_partial_fill[\"Year Built\"]== 0)]"
   ]
  },
  {
   "cell_type": "code",
   "execution_count": 320,
   "id": "a5bbf55c",
   "metadata": {},
   "outputs": [
    {
     "data": {
      "text/plain": [
       "2.7377064220183485"
      ]
     },
     "execution_count": 320,
     "metadata": {},
     "output_type": "execute_result"
    }
   ],
   "source": [
    "#using the info we just extracted I will calculate the mean for the \n",
    "#width\n",
    "lwpf[\"Width\"].mean()\n",
    "#we can use this width for id 7 and id 1977"
   ]
  },
  {
   "cell_type": "code",
   "execution_count": 321,
   "id": "281b1ed9",
   "metadata": {},
   "outputs": [
    {
     "data": {
      "text/plain": [
       "8.381834862385322"
      ]
     },
     "execution_count": 321,
     "metadata": {},
     "output_type": "execute_result"
    }
   ],
   "source": [
    "#using extracted data from lwpf, i will calculate the mean for the \n",
    "#length\n",
    "lwpf[\"Length\"].mean()"
   ]
  },
  {
   "cell_type": "code",
   "execution_count": 322,
   "id": "d32199ac",
   "metadata": {},
   "outputs": [],
   "source": [
    "#extract columns with Manufacturer = Princess power boats to impute blank length\n",
    "lwpfv01 = lw_partial_fill.loc[(lw_partial_fill[\"Manufacturer\"] == \"Princess power boats\") & (lw_partial_fill[\"Boat Type\"] == \"Flybridge\")]"
   ]
  },
  {
   "cell_type": "code",
   "execution_count": 323,
   "id": "952dfaab",
   "metadata": {},
   "outputs": [
    {
     "data": {
      "text/plain": [
       "4.647075471698113"
      ]
     },
     "execution_count": 323,
     "metadata": {},
     "output_type": "execute_result"
    }
   ],
   "source": [
    "#calculating mean length for id 5949\n",
    "lwpfv01[\"Length\"].mean()\n",
    "\n",
    "#calculating mean width for id 5949\n",
    "lwpfv01[\"Width\"].mean()"
   ]
  },
  {
   "cell_type": "code",
   "execution_count": 324,
   "id": "07a58b73",
   "metadata": {},
   "outputs": [],
   "source": [
    "#extracting boats with manufacturer = \"Riva power boat\" and boat type Classic, Runabout\n",
    "lwpfv02 = lw_partial_fill.loc[(lw_partial_fill[\"Manufacturer\"] == \"Riva power boats\") & (lw_partial_fill[\"Boat Type\"] == \"Classic,Runabout\")] "
   ]
  },
  {
   "cell_type": "code",
   "execution_count": 325,
   "id": "392a34ea",
   "metadata": {},
   "outputs": [
    {
     "data": {
      "text/plain": [
       "2.152857142857143"
      ]
     },
     "execution_count": 325,
     "metadata": {},
     "output_type": "execute_result"
    }
   ],
   "source": [
    "#calculating mean length for id 7222\n",
    "lwpfv02[\"Length\"].mean()\n",
    "\n",
    "#calculating mean width for id 7222\n",
    "lwpfv02[\"Width\"].mean()"
   ]
  },
  {
   "cell_type": "code",
   "execution_count": 326,
   "id": "5f44a637",
   "metadata": {},
   "outputs": [],
   "source": [
    "#utilized mean length and mean width for bowriders to impute missing length and width for id 9434\n",
    "lwpfv03=lw_partial_fill.loc[(lw_partial_fill[\"Boat Type\"] == \"Bowrider\")] "
   ]
  },
  {
   "cell_type": "code",
   "execution_count": 327,
   "id": "03e8f59b",
   "metadata": {},
   "outputs": [
    {
     "data": {
      "text/plain": [
       "2.4327574750830547"
      ]
     },
     "execution_count": 327,
     "metadata": {},
     "output_type": "execute_result"
    }
   ],
   "source": [
    "#calculating mean length for id 9434\n",
    "lwpfv03[\"Length\"].mean()\n",
    "\n",
    "#calculating mean width for id 9434\n",
    "lwpfv03[\"Width\"].mean()"
   ]
  },
  {
   "cell_type": "code",
   "execution_count": 328,
   "id": "9999f448",
   "metadata": {},
   "outputs": [],
   "source": [
    "#utilized mean width of motor yachts from year 2005 to impute width for id 1979\n",
    "lwpfv04=lw_partial_fill.loc[(lw_partial_fill[\"Boat Type\"] == \"Motor Yacht\") & (lw_partial_fill[\"Year Built\"] == 2005)] "
   ]
  },
  {
   "cell_type": "code",
   "execution_count": 329,
   "id": "8d54bf56",
   "metadata": {},
   "outputs": [
    {
     "data": {
      "text/plain": [
       "4.07844036697248"
      ]
     },
     "execution_count": 329,
     "metadata": {},
     "output_type": "execute_result"
    }
   ],
   "source": [
    "#calculating mean width for id 1979\n",
    "lwpfv04[\"Width\"].mean()"
   ]
  },
  {
   "cell_type": "code",
   "execution_count": 330,
   "id": "6066e7ab",
   "metadata": {},
   "outputs": [],
   "source": [
    "#extracting sport boats built in 1980 to impute width for id 7550\n",
    "lwpfv05 = lw_partial_fill.loc[(lw_partial_fill[\"Boat Type\"] == \"Sport Boat\") & (lw_partial_fill[\"Year Built\"] == 1980)] "
   ]
  },
  {
   "cell_type": "code",
   "execution_count": 331,
   "id": "5919b664",
   "metadata": {},
   "outputs": [
    {
     "data": {
      "text/plain": [
       "2.5542857142857143"
      ]
     },
     "execution_count": 331,
     "metadata": {},
     "output_type": "execute_result"
    }
   ],
   "source": [
    "#calculate mean width for id 7550\n",
    "lwpfv05[\"Width\"].mean()"
   ]
  },
  {
   "cell_type": "code",
   "execution_count": 332,
   "id": "14d88062",
   "metadata": {},
   "outputs": [],
   "source": [
    "#import updated length_width_filled csv with B√É¬©n√É¬©teau \n",
    "#power boats changed to BAcnActeau\n",
    "lw_partial_fill_v01 = pd.read_csv(\"length_width_filled.csv\") "
   ]
  },
  {
   "cell_type": "code",
   "execution_count": 333,
   "id": "f608f32d",
   "metadata": {},
   "outputs": [],
   "source": [
    "#extracting flybridge boats made by BAcnActeau\n",
    "lwpfv06 = lw_partial_fill.loc[(lw_partial_fill_v01[\"Boat Type\"] == \"Flybridge\") & (lw_partial_fill_v01[\"Manufacturer\"] == \"BAcnActeau\")] "
   ]
  },
  {
   "cell_type": "code",
   "execution_count": 334,
   "id": "3a061e8a",
   "metadata": {},
   "outputs": [
    {
     "data": {
      "text/plain": [
       "3.862295081967214"
      ]
     },
     "execution_count": 334,
     "metadata": {},
     "output_type": "execute_result"
    }
   ],
   "source": [
    "#calculate mean width for id 3591\n",
    "lwpfv06[\"Width\"].mean()"
   ]
  },
  {
   "cell_type": "code",
   "execution_count": 335,
   "id": "416a7593",
   "metadata": {},
   "outputs": [],
   "source": [
    "#extracting trawler boats made by BAcnActeau\n",
    "lwpfv07 = lw_partial_fill.loc[(lw_partial_fill_v01[\"Manufacturer\"] == \"BAcnActeau\") & (lw_partial_fill_v01[\"Boat Type\"] == \"Trawler\")]"
   ]
  },
  {
   "cell_type": "code",
   "execution_count": 336,
   "id": "a2784cf2",
   "metadata": {},
   "outputs": [
    {
     "data": {
      "text/plain": [
       "4.132063492063492"
      ]
     },
     "execution_count": 336,
     "metadata": {},
     "output_type": "execute_result"
    }
   ],
   "source": [
    "#mean width for id 4006\n",
    "lwpfv07[\"Width\"].mean()"
   ]
  },
  {
   "cell_type": "code",
   "execution_count": 337,
   "id": "722f454c",
   "metadata": {},
   "outputs": [],
   "source": [
    "#extracting Sport Boat made by Bayliner\n",
    "lwpfv08 = lw_partial_fill.loc[(lw_partial_fill_v01[\"Manufacturer\"] == \"Bayliner power boats\") & (lw_partial_fill_v01[\"Boat Type\"] == \"Sport Boat\")]"
   ]
  },
  {
   "cell_type": "code",
   "execution_count": 338,
   "id": "3c8d0dc3",
   "metadata": {},
   "outputs": [
    {
     "data": {
      "text/plain": [
       "2.6070909090909087"
      ]
     },
     "execution_count": 338,
     "metadata": {},
     "output_type": "execute_result"
    }
   ],
   "source": [
    "#calculate mean width for id 8376\n",
    "lwpfv08[\"Width\"].mean()"
   ]
  },
  {
   "cell_type": "code",
   "execution_count": 339,
   "id": "7dbe5b4a",
   "metadata": {},
   "outputs": [],
   "source": [
    "#extracting Cobalt power boats w boat type Sport Boat\n",
    "lwpfv09 = lw_partial_fill_v01.loc[(lw_partial_fill_v01[\"Manufacturer\"] == \"Cobalt power boats\") & (lw_partial_fill_v01[\"Boat Type\"] == \"Bowrider\")]"
   ]
  },
  {
   "cell_type": "code",
   "execution_count": 340,
   "id": "aae39950",
   "metadata": {},
   "outputs": [
    {
     "data": {
      "text/plain": [
       "2.5833333333333335"
      ]
     },
     "execution_count": 340,
     "metadata": {},
     "output_type": "execute_result"
    }
   ],
   "source": [
    "#calculating mean width for id 646\n",
    "lwpfv09[\"Width\"].mean()"
   ]
  },
  {
   "cell_type": "code",
   "execution_count": 341,
   "id": "67744946",
   "metadata": {},
   "outputs": [],
   "source": [
    "#extracting cabin boats \n",
    "lwpfv10=lw_partial_fill_v01.loc[(lw_partial_fill_v01[\"Boat Type\"] == \"Cabin Boat\") & (lw_partial_fill_v01[\"Year Built\"] == 2005)]"
   ]
  },
  {
   "cell_type": "code",
   "execution_count": 342,
   "id": "51fde076",
   "metadata": {},
   "outputs": [
    {
     "data": {
      "text/plain": [
       "2.8321428571428564"
      ]
     },
     "execution_count": 342,
     "metadata": {},
     "output_type": "execute_result"
    }
   ],
   "source": [
    "#calculating width for id 9700\n",
    "lwpfv10[\"Width\"].mean()"
   ]
  },
  {
   "cell_type": "code",
   "execution_count": 343,
   "id": "507f3298",
   "metadata": {},
   "outputs": [],
   "source": [
    "#extracting sport boats from 2019\n",
    "lwpfv11 = lw_partial_fill_v01.loc[(lw_partial_fill_v01[\"Boat Type\"] == \"Sport Boat\") & (lw_partial_fill_v01[\"Year Built\"] == 2019)]"
   ]
  },
  {
   "cell_type": "code",
   "execution_count": 344,
   "id": "d2d3521b",
   "metadata": {},
   "outputs": [
    {
     "data": {
      "text/plain": [
       "2.464025157232706"
      ]
     },
     "execution_count": 344,
     "metadata": {},
     "output_type": "execute_result"
    }
   ],
   "source": [
    "#calculating width for id 9822\n",
    "lwpfv11[\"Width\"].mean()"
   ]
  },
  {
   "cell_type": "code",
   "execution_count": 345,
   "id": "4a5b3dbf",
   "metadata": {},
   "outputs": [],
   "source": [
    "#extracting motor yacht from manufacturer Elan power boats\n",
    "lwpfv12 = lw_partial_fill_v01.loc[(lw_partial_fill_v01[\"Boat Type\"] == \"Motor Yacht\") & (lw_partial_fill_v01[\"Manufacturer\"] == \"Elan power boats\")]"
   ]
  },
  {
   "cell_type": "code",
   "execution_count": 346,
   "id": "de0dac7c",
   "metadata": {},
   "outputs": [
    {
     "data": {
      "text/plain": [
       "3.755714285714286"
      ]
     },
     "execution_count": 346,
     "metadata": {},
     "output_type": "execute_result"
    }
   ],
   "source": [
    "#calculating width for id 2266\n",
    "lwpfv12[\"Width\"].mean()"
   ]
  },
  {
   "cell_type": "code",
   "execution_count": 347,
   "id": "24941c5c",
   "metadata": {},
   "outputs": [],
   "source": [
    "#extracting boat type= Center console boat and year 1992\n",
    "lwpfv13 = lw_partial_fill_v01.loc[(lw_partial_fill_v01[\"Boat Type\"] == \"Center console boat\") & (lw_partial_fill_v01[\"Year Built\"] == 1992)]"
   ]
  },
  {
   "cell_type": "code",
   "execution_count": 348,
   "id": "12744662",
   "metadata": {},
   "outputs": [
    {
     "data": {
      "text/plain": [
       "3.7566666666666664"
      ]
     },
     "execution_count": 348,
     "metadata": {},
     "output_type": "execute_result"
    }
   ],
   "source": [
    "#calculating width for id 9861\n",
    "lwpfv13[\"Width\"].mean()"
   ]
  },
  {
   "cell_type": "code",
   "execution_count": 349,
   "id": "48381108",
   "metadata": {},
   "outputs": [],
   "source": [
    "#extracting manufacturer = Fairline power boats and boat type = motor yacht\n",
    "lwpfv14 = lw_partial_fill_v01.loc[(lw_partial_fill_v01[\"Manufacturer\"] == \"Fairline power boats\") & (lw_partial_fill_v01[\"Boat Type\"] == \"Motor Yacht\")]"
   ]
  },
  {
   "cell_type": "code",
   "execution_count": 350,
   "id": "5087614a",
   "metadata": {},
   "outputs": [
    {
     "data": {
      "text/plain": [
       "4.278867924528302"
      ]
     },
     "execution_count": 350,
     "metadata": {},
     "output_type": "execute_result"
    }
   ],
   "source": [
    "#calculating width for id 3795\n",
    "lwpfv14[\"Width\"].mean()"
   ]
  },
  {
   "cell_type": "code",
   "execution_count": 351,
   "id": "f200569a",
   "metadata": {},
   "outputs": [],
   "source": [
    "#extracting manufacaturer = Galeon power boats and boat type\n",
    "lwpfv15 = lw_partial_fill_v01.loc[(lw_partial_fill_v01[\"Manufacturer\"] == \"Galeon power boats\") & (lw_partial_fill_v01[\"Boat Type\"] == \"Motor Yacht\")]"
   ]
  },
  {
   "cell_type": "code",
   "execution_count": 352,
   "id": "d90be2e1",
   "metadata": {},
   "outputs": [
    {
     "data": {
      "text/plain": [
       "4.023333333333333"
      ]
     },
     "execution_count": 352,
     "metadata": {},
     "output_type": "execute_result"
    }
   ],
   "source": [
    "#calculating width for id 7190\n",
    "lwpfv15[\"Width\"].mean()"
   ]
  },
  {
   "cell_type": "code",
   "execution_count": 353,
   "id": "35dc93ba",
   "metadata": {},
   "outputs": [],
   "source": [
    "#extracting manufacturer = Grand Banks and Boat Type = trawler\n",
    "lwpfv16 = lw_partial_fill_v01.loc[(lw_partial_fill_v01[\"Manufacturer\"] == \"Grand Banks power boats\") & (lw_partial_fill_v01[\"Boat Type\"] == \"Trawler\")]"
   ]
  },
  {
   "cell_type": "code",
   "execution_count": 354,
   "id": "45d8b9ab",
   "metadata": {},
   "outputs": [
    {
     "data": {
      "text/plain": [
       "4.284545454545455"
      ]
     },
     "execution_count": 354,
     "metadata": {},
     "output_type": "execute_result"
    }
   ],
   "source": [
    "#calculating width for id 5550\n",
    "lwpfv16[\"Width\"].mean()"
   ]
  },
  {
   "cell_type": "code",
   "execution_count": 355,
   "id": "f441ece3",
   "metadata": {},
   "outputs": [],
   "source": [
    "#extracting motor yachts from year 2003\n",
    "lwpfv17 = lw_partial_fill_v01.loc[(lw_partial_fill_v01[\"Boat Type\"] == \"Motor Yacht\") & (lw_partial_fill_v01[\"Year Built\"] == 2003)]"
   ]
  },
  {
   "cell_type": "code",
   "execution_count": 356,
   "id": "363d5249",
   "metadata": {},
   "outputs": [
    {
     "data": {
      "text/plain": [
       "4.236666666666667"
      ]
     },
     "execution_count": 356,
     "metadata": {},
     "output_type": "execute_result"
    }
   ],
   "source": [
    "#calculating width for id 1258\n",
    "lwpfv17[\"Width\"].mean()"
   ]
  },
  {
   "cell_type": "code",
   "execution_count": 357,
   "id": "dc3a79e8",
   "metadata": {},
   "outputs": [],
   "source": [
    "#extracting Marex power boat type pilothouse\n",
    "lwpfv18 = lw_partial_fill_v01.loc[(lw_partial_fill_v01[\"Boat Type\"] == \"Pilothouse\") & (lw_partial_fill_v01[\"Manufacturer\"] == \"Marex power boats\")]"
   ]
  },
  {
   "cell_type": "code",
   "execution_count": 358,
   "id": "5c65424c",
   "metadata": {},
   "outputs": [
    {
     "data": {
      "text/plain": [
       "3.1979999999999995"
      ]
     },
     "execution_count": 358,
     "metadata": {},
     "output_type": "execute_result"
    }
   ],
   "source": [
    "#calculating width for id 1054\n",
    "lwpfv18[\"Width\"].mean()"
   ]
  },
  {
   "cell_type": "code",
   "execution_count": 359,
   "id": "5af9625f",
   "metadata": {},
   "outputs": [],
   "source": [
    "#extracting MasterCraft Wakeboards\n",
    "lwpfv19 = lw_partial_fill_v01.loc[(lw_partial_fill_v01[\"Boat Type\"] == \"Wakeboard/Wakesurf\") & (lw_partial_fill_v01[\"Manufacturer\"] == \"MasterCraft power boats\")]"
   ]
  },
  {
   "cell_type": "code",
   "execution_count": 360,
   "id": "26904002",
   "metadata": {},
   "outputs": [
    {
     "data": {
      "text/plain": [
       "2.5559999999999996"
      ]
     },
     "execution_count": 360,
     "metadata": {},
     "output_type": "execute_result"
    }
   ],
   "source": [
    "#calculating width for id 1290\n",
    "lwpfv19[\"Width\"].mean()"
   ]
  },
  {
   "cell_type": "code",
   "execution_count": 361,
   "id": "b4e6d223",
   "metadata": {},
   "outputs": [],
   "source": [
    "#extracting Mochi Craft Flybridge\n",
    "lwpfv20 = lw_partial_fill_v01.loc[(lw_partial_fill_v01[\"Manufacturer\"] == \"Mochi Craft power boats\") & (lw_partial_fill_v01[\"Boat Type\"] == \"Flybridge\")]"
   ]
  },
  {
   "cell_type": "code",
   "execution_count": 362,
   "id": "4b23b385",
   "metadata": {},
   "outputs": [
    {
     "data": {
      "text/plain": [
       "4.867999999999999"
      ]
     },
     "execution_count": 362,
     "metadata": {},
     "output_type": "execute_result"
    }
   ],
   "source": [
    "#calculating width for id 5911\n",
    "lwpfv20[\"Width\"].mean()"
   ]
  },
  {
   "cell_type": "code",
   "execution_count": 363,
   "id": "c845a255",
   "metadata": {},
   "outputs": [],
   "source": [
    "#extracting deck boats from other\n",
    "lwpfv21 = lw_partial_fill_v01.loc[(lw_partial_fill_v01[\"Manufacturer\"] == \"Other\") & (lw_partial_fill_v01[\"Boat Type\"] == \"Deck Boat\")]"
   ]
  },
  {
   "cell_type": "code",
   "execution_count": 364,
   "id": "004158e7",
   "metadata": {},
   "outputs": [
    {
     "data": {
      "text/plain": [
       "2.4895833333333335"
      ]
     },
     "execution_count": 364,
     "metadata": {},
     "output_type": "execute_result"
    }
   ],
   "source": [
    "#calculating width for ids 42 and 50, 9651\n",
    "lwpfv21[\"Width\"].mean()"
   ]
  },
  {
   "cell_type": "code",
   "execution_count": 365,
   "id": "49c0bc5d",
   "metadata": {},
   "outputs": [],
   "source": [
    "#extracting motor yachts from other\n",
    "lwpfv22 = lw_partial_fill_v01.loc[(lw_partial_fill_v01[\"Manufacturer\"] == \"Other\") & (lw_partial_fill_v01[\"Boat Type\"] == \"Motor Yacht\")]"
   ]
  },
  {
   "cell_type": "code",
   "execution_count": 366,
   "id": "c58e4def",
   "metadata": {},
   "outputs": [
    {
     "data": {
      "text/plain": [
       "4.2957585139318875"
      ]
     },
     "execution_count": 366,
     "metadata": {},
     "output_type": "execute_result"
    }
   ],
   "source": [
    "#calculating width for id 2632, 3031, 3309, 7986\n",
    "lwpfv22[\"Width\"].mean()"
   ]
  },
  {
   "cell_type": "code",
   "execution_count": 367,
   "id": "b51b37bc",
   "metadata": {},
   "outputs": [],
   "source": [
    "#extracting working boat from other\n",
    "lwpfv23 = lw_partial_fill_v01.loc[(lw_partial_fill_v01[\"Manufacturer\"] == \"Other\") & (lw_partial_fill_v01[\"Boat Type\"] == \"Working Boat\")]"
   ]
  },
  {
   "cell_type": "code",
   "execution_count": 368,
   "id": "4dbd98fc",
   "metadata": {},
   "outputs": [
    {
     "data": {
      "text/plain": [
       "4.057407407407408"
      ]
     },
     "execution_count": 368,
     "metadata": {},
     "output_type": "execute_result"
    }
   ],
   "source": [
    "#calculating width for id 7024\n",
    "lwpfv23[\"Width\"].mean()"
   ]
  },
  {
   "cell_type": "code",
   "execution_count": 369,
   "id": "b5364387",
   "metadata": {},
   "outputs": [],
   "source": [
    "#extracting trawler from other and yr 2012\n",
    "lwpfv24 = lw_partial_fill_v01.loc[(lw_partial_fill_v01[\"Manufacturer\"] == \"Other\") & (lw_partial_fill_v01[\"Boat Type\"] == \"Trawler\") & (lw_partial_fill_v01[\"Year Built\"] == 2012)]"
   ]
  },
  {
   "cell_type": "code",
   "execution_count": 370,
   "id": "1c48037d",
   "metadata": {},
   "outputs": [
    {
     "data": {
      "text/plain": [
       "4.5"
      ]
     },
     "execution_count": 370,
     "metadata": {},
     "output_type": "execute_result"
    }
   ],
   "source": [
    "#calculating width for id 8397\n",
    "lwpfv24[\"Width\"].mean()"
   ]
  },
  {
   "cell_type": "code",
   "execution_count": 371,
   "id": "344ef860",
   "metadata": {},
   "outputs": [],
   "source": [
    "#extracting center console from other\n",
    "lwpfv25 = lw_partial_fill_v01.loc[(lw_partial_fill_v01[\"Boat Type\"] == \"Center console boat\") & (lw_partial_fill_v01[\"Manufacturer\"] == \"Other\")]"
   ]
  },
  {
   "cell_type": "code",
   "execution_count": 372,
   "id": "5effabd0",
   "metadata": {},
   "outputs": [
    {
     "data": {
      "text/plain": [
       "2.95818181818182"
      ]
     },
     "execution_count": 372,
     "metadata": {},
     "output_type": "execute_result"
    }
   ],
   "source": [
    "#calculating width for id 9719\n",
    "lwpfv25[\"Width\"].mean()"
   ]
  },
  {
   "cell_type": "code",
   "execution_count": 373,
   "id": "872d17cc",
   "metadata": {},
   "outputs": [],
   "source": [
    "#extracting Rinker power boats with boat type sport\n",
    "lwpfv26 = lw_partial_fill_v01.loc[(lw_partial_fill_v01[\"Boat Type\"] == \"Sport Boat\") & (lw_partial_fill_v01[\"Manufacturer\"] == \"Rinker power boats\")]"
   ]
  },
  {
   "cell_type": "code",
   "execution_count": 374,
   "id": "97c5a553",
   "metadata": {},
   "outputs": [
    {
     "data": {
      "text/plain": [
       "2.6408333333333336"
      ]
     },
     "execution_count": 374,
     "metadata": {},
     "output_type": "execute_result"
    }
   ],
   "source": [
    "# calculating width for id 973\n",
    "lwpfv26[\"Width\"].mean()"
   ]
  },
  {
   "cell_type": "code",
   "execution_count": 375,
   "id": "dabe3665",
   "metadata": {},
   "outputs": [],
   "source": [
    "#extracting Rinker power boats with boat type cabin\n",
    "lwpfv27 = lw_partial_fill_v01.loc[(lw_partial_fill_v01[\"Boat Type\"] == \"Cabin Boat\") & (lw_partial_fill_v01[\"Manufacturer\"] == \"Rinker power boats\")]"
   ]
  },
  {
   "cell_type": "code",
   "execution_count": 376,
   "id": "4b531f68",
   "metadata": {},
   "outputs": [
    {
     "data": {
      "text/plain": [
       "2.59"
      ]
     },
     "execution_count": 376,
     "metadata": {},
     "output_type": "execute_result"
    }
   ],
   "source": [
    "#calculating width for id 645\n",
    "lwpfv27[\"Width\"].mean()"
   ]
  },
  {
   "cell_type": "code",
   "execution_count": 377,
   "id": "1011a852",
   "metadata": {},
   "outputs": [],
   "source": [
    "#extract pilothouse boats\n",
    "lwpfv28 = lw_partial_fill_v01.loc[(lw_partial_fill_v01[\"Boat Type\"] == \"Pilothouse\") & (lw_partial_fill_v01[\"Year Built\"] == 2000)]"
   ]
  },
  {
   "cell_type": "code",
   "execution_count": 378,
   "id": "dd347ec5",
   "metadata": {},
   "outputs": [
    {
     "data": {
      "text/plain": [
       "2.8115384615384613"
      ]
     },
     "execution_count": 378,
     "metadata": {},
     "output_type": "execute_result"
    }
   ],
   "source": [
    "#calcule width for id 1879\n",
    "lwpfv28[\"Width\"].mean()"
   ]
  },
  {
   "cell_type": "code",
   "execution_count": 379,
   "id": "6ad25d16",
   "metadata": {},
   "outputs": [],
   "source": [
    "#extract motor yacht with manufacturer sea ray\n",
    "lwpfv29 = lw_partial_fill_v01.loc[(lw_partial_fill_v01[\"Boat Type\"] == \"Motor Yacht\") & (lw_partial_fill_v01[\"Manufacturer\"] == \"Sea Ray power boats\")]"
   ]
  },
  {
   "cell_type": "code",
   "execution_count": 380,
   "id": "e4dda88d",
   "metadata": {},
   "outputs": [
    {
     "data": {
      "text/plain": [
       "3.6317241379310334"
      ]
     },
     "execution_count": 380,
     "metadata": {},
     "output_type": "execute_result"
    }
   ],
   "source": [
    "#calculate width for id 1565\n",
    "lwpfv29[\"Width\"].mean()"
   ]
  },
  {
   "cell_type": "code",
   "execution_count": 381,
   "id": "ddb394a2",
   "metadata": {},
   "outputs": [],
   "source": [
    "#extract flybridge from sealine power boats\n",
    "lwpfv30 = lw_partial_fill_v01.loc[(lw_partial_fill_v01[\"Boat Type\"] == \"Flybridge\") & (lw_partial_fill_v01[\"Manufacturer\"] == \"Sealine power boats\") & (lw_partial_fill_v01[\"Year Built\"] == 1996)]"
   ]
  },
  {
   "cell_type": "code",
   "execution_count": 382,
   "id": "ccca1ac8",
   "metadata": {},
   "outputs": [
    {
     "data": {
      "text/plain": [
       "3.3771428571428572"
      ]
     },
     "execution_count": 382,
     "metadata": {},
     "output_type": "execute_result"
    }
   ],
   "source": [
    "#calculate width for id 6219\n",
    "lwpfv30[\"Width\"].mean()"
   ]
  },
  {
   "cell_type": "code",
   "execution_count": 383,
   "id": "bdc41243",
   "metadata": {},
   "outputs": [],
   "source": [
    "#extract runabout with length >= 6 but less than 7\n",
    "lwpfv31 = lw_partial_fill_v01.loc[(lw_partial_fill_v01[\"Boat Type\"] == \"Runabout\") & (lw_partial_fill_v01[\"Length\"] >= 6) & (lw_partial_fill_v01[\"Length\"] < 7)]"
   ]
  },
  {
   "cell_type": "code",
   "execution_count": 384,
   "id": "cf6acee4",
   "metadata": {},
   "outputs": [
    {
     "data": {
      "text/plain": [
       "2.3277777777777775"
      ]
     },
     "execution_count": 384,
     "metadata": {},
     "output_type": "execute_result"
    }
   ],
   "source": [
    "#calculate width for id 8700\n",
    "lwpfv31[\"Width\"].mean()"
   ]
  },
  {
   "cell_type": "code",
   "execution_count": 385,
   "id": "d616f492",
   "metadata": {},
   "outputs": [],
   "source": [
    "#extract motor yacht w length bw 10.2 and 10.5\n",
    "lwpfv32 = lw_partial_fill_v01.loc[(lw_partial_fill_v01[\"Boat Type\"] == \"Motor Yacht\") & (lw_partial_fill_v01[\"Length\"] >= 10.2) & (lw_partial_fill_v01[\"Length\"] <= 10.5)]"
   ]
  },
  {
   "cell_type": "code",
   "execution_count": 386,
   "id": "fbcfa96d",
   "metadata": {},
   "outputs": [
    {
     "data": {
      "text/plain": [
       "3.396999999999999"
      ]
     },
     "execution_count": 386,
     "metadata": {},
     "output_type": "execute_result"
    }
   ],
   "source": [
    "#calculate width for id 7207\n",
    "lwpfv32[\"Width\"].mean()"
   ]
  },
  {
   "cell_type": "code",
   "execution_count": 387,
   "id": "0a33dfe9",
   "metadata": {},
   "outputs": [],
   "source": [
    "#extract flybridge from sunseeker power boats & length bw 16 and 18 \n",
    "lwpfv33 = lw_partial_fill_v01.loc[(lw_partial_fill_v01[\"Boat Type\"] == \"Flybridge\") & (lw_partial_fill_v01[\"Manufacturer\"] == \"Sunseeker power boats\") & (lw_partial_fill_v01[\"Length\"] >=16) & (lw_partial_fill_v01[\"Length\"] <= 18)]"
   ]
  },
  {
   "cell_type": "code",
   "execution_count": 388,
   "id": "19b17837",
   "metadata": {},
   "outputs": [
    {
     "data": {
      "text/plain": [
       "4.653333333333333"
      ]
     },
     "execution_count": 388,
     "metadata": {},
     "output_type": "execute_result"
    }
   ],
   "source": [
    "#calculate width for id 3917\n",
    "lwpfv33[\"Width\"].mean()"
   ]
  },
  {
   "cell_type": "code",
   "execution_count": 389,
   "id": "0979ec9c",
   "metadata": {},
   "outputs": [],
   "source": [
    "#extract Motor Yacht from Sunseeker and length bw 14 and 15\n",
    "lwpfv34 = lw_partial_fill_v01.loc[(lw_partial_fill_v01[\"Boat Type\"] == \"Motor Yacht\") & (lw_partial_fill_v01[\"Manufacturer\"] == \"Sunseeker power boats\") & (lw_partial_fill_v01[\"Length\"] >= 14) & (lw_partial_fill_v01[\"Length\"] <= 15)]"
   ]
  },
  {
   "cell_type": "code",
   "execution_count": 390,
   "id": "6b02e414",
   "metadata": {},
   "outputs": [
    {
     "data": {
      "text/plain": [
       "4.1234375000000005"
      ]
     },
     "execution_count": 390,
     "metadata": {},
     "output_type": "execute_result"
    }
   ],
   "source": [
    "#calculate width for id 5231\n",
    "lwpfv34[\"Width\"].mean()"
   ]
  },
  {
   "cell_type": "code",
   "execution_count": 391,
   "id": "172b2ca3",
   "metadata": {},
   "outputs": [],
   "source": [
    "#extract motor yacht from windy power boats and length bw 9 and 10\n",
    "lwpfv35 = lw_partial_fill_v01.loc[(lw_partial_fill_v01[\"Boat Type\"] == \"Motor Yacht\") & (lw_partial_fill_v01[\"Manufacturer\"] == \"Windy power boats\") & (lw_partial_fill_v01[\"Length\"] >= 9) & (lw_partial_fill_v01[\"Length\"]<=10)]"
   ]
  },
  {
   "cell_type": "code",
   "execution_count": 392,
   "id": "26640866",
   "metadata": {},
   "outputs": [
    {
     "data": {
      "text/plain": [
       "3.3619999999999997"
      ]
     },
     "execution_count": 392,
     "metadata": {},
     "output_type": "execute_result"
    }
   ],
   "source": [
    "#calculate width for id 9507\n",
    "lwpfv35[\"Width\"].mean()"
   ]
  },
  {
   "cell_type": "code",
   "execution_count": 393,
   "id": "9b95640f",
   "metadata": {},
   "outputs": [],
   "source": [
    "#extract motor yacht w length bw 20 and 23\n",
    "lwpfv36 = lw_partial_fill_v01.loc[(lw_partial_fill_v01[\"Boat Type\"] == \"Motor Yacht\") & (lw_partial_fill_v01[\"Length\"] >= 20) & (lw_partial_fill_v01[\"Length\"]<=23)]"
   ]
  },
  {
   "cell_type": "code",
   "execution_count": 394,
   "id": "36faffb8",
   "metadata": {},
   "outputs": [
    {
     "data": {
      "text/plain": [
       "5.362325581395354"
      ]
     },
     "execution_count": 394,
     "metadata": {},
     "output_type": "execute_result"
    }
   ],
   "source": [
    "#calculate width for id 3949\n",
    "lwpfv36[\"Width\"].mean()"
   ]
  },
  {
   "cell_type": "code",
   "execution_count": 395,
   "id": "eba6cab1",
   "metadata": {},
   "outputs": [],
   "source": [
    "#import completely filled length and width file\n",
    "lwf = pd.read_csv(\"length_width_filled.csv\")"
   ]
  },
  {
   "cell_type": "code",
   "execution_count": 396,
   "id": "b4afad8e",
   "metadata": {},
   "outputs": [
    {
     "data": {
      "text/plain": [
       "Unnamed: 0                      0\n",
       "Unnamed: 0.1                    0\n",
       "Price                           0\n",
       "Boat Type                       0\n",
       "Manufacturer                    0\n",
       "Type                            6\n",
       "Year Built                      0\n",
       "Length                          0\n",
       "Width                           0\n",
       "Material                        0\n",
       "Location                       36\n",
       "Number of views last 7 days     0\n",
       "dtype: int64"
      ]
     },
     "execution_count": 396,
     "metadata": {},
     "output_type": "execute_result"
    }
   ],
   "source": [
    "#check to see what columns still have blanks\n",
    "lwf.isna().sum()"
   ]
  },
  {
   "cell_type": "code",
   "execution_count": 397,
   "id": "03ff3505",
   "metadata": {},
   "outputs": [],
   "source": [
    "#updated location formats\n",
    "#updated currency"
   ]
  },
  {
   "cell_type": "code",
   "execution_count": 398,
   "id": "ae3d707c",
   "metadata": {},
   "outputs": [],
   "source": [
    "#cleaned data file\n",
    "clean = pd.read_csv(\"currency_updated_v02.csv\")"
   ]
  },
  {
   "cell_type": "code",
   "execution_count": 400,
   "id": "c6549a13",
   "metadata": {},
   "outputs": [],
   "source": [
    "\n",
    "import matplotlib.pyplot as plt\n",
    "import matplotlib as mlp\n",
    "%matplotlib inline"
   ]
  },
  {
   "cell_type": "code",
   "execution_count": 416,
   "id": "c2e2fb13",
   "metadata": {},
   "outputs": [],
   "source": [
    "mvb = pd.read_csv(\"most_viewed_boats_transposed.csv\")"
   ]
  },
  {
   "cell_type": "code",
   "execution_count": 435,
   "id": "2e608360",
   "metadata": {},
   "outputs": [
    {
     "data": {
      "text/plain": [
       "Text(0.5, 0, 'Boat Type')"
      ]
     },
     "execution_count": 435,
     "metadata": {},
     "output_type": "execute_result"
    },
    {
     "data": {
      "image/png": "[encoded data removed]",
      "text/plain": [
       "<Figure size 432x288 with 1 Axes>"
      ]
     },
     "metadata": {
      "needs_background": "light"
     },
     "output_type": "display_data"
    }
   ],
   "source": [
    "\n",
    "plt.bar(x=mvb[\"Boat Type\"], height = mvb[\"Avg number of views in the last 7 days\"])\n",
    "plt.xticks(rotation = 90, fontsize = 8)\n",
    "plt.title(\"Most Viewed Boats\", fontsize = 16, fontweight = 'bold')\n",
    "plt.ylabel('Avg number of views in the last 7 days')\n",
    "plt.xlabel('Boat Type')\n"
   ]
  }
 ],
 "metadata": {
  "kernelspec": {
   "display_name": "Python 3 (ipykernel)",
   "language": "python",
   "name": "python3"
  },
  "language_info": {
   "codemirror_mode": {
    "name": "ipython",
    "version": 3
   },
   "file_extension": ".py",
   "mimetype": "text/x-python",
   "name": "python",
   "nbconvert_exporter": "python",
   "pygments_lexer": "ipython3",
   "version": "3.9.7"
  }
 },
 "nbformat": 4,
 "nbformat_minor": 5
}
